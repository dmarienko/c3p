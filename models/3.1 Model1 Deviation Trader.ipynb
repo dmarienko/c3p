{
 "cells": [
  {
   "cell_type": "code",
   "execution_count": 59,
   "metadata": {},
   "outputs": [
    {
     "data": {
      "text/html": [
       "<pre style=\"white-space:pre;overflow-x:auto;line-height:normal;font-family:Menlo,'DejaVu Sans Mono',consolas,'Courier New',monospace\"><span style=\"font-weight: bold\">(</span>c<span style=\"font-weight: bold\">)</span> <span style=\"color: #008000; font-weight: bold\">2017</span>, AppliedAlpha Infrastructure for Quantitative Research and Analysis, ver. master: \n",
       "<span style=\"color: #008000; font-weight: bold\">0.1476</span>\n",
       "</pre>\n"
      ],
      "text/plain": [
       "<rich.jupyter.JupyterRenderable at 0x7f97d74a9710>"
      ]
     },
     "metadata": {},
     "output_type": "display_data"
    }
   ],
   "source": [
    "import ira\n",
    "\n",
    "from tqdm.notebook import tqdm\n",
    "%alphalab dark\n",
    "\n",
    "import qlearn as q\n",
    "from c3p.models.utils import prepare_data\n",
    "\n",
    "%run models.py"
   ]
  },
  {
   "cell_type": "code",
   "execution_count": 60,
   "metadata": {},
   "outputs": [],
   "source": [
    "def simulate_models(data, model, contracts, spread=0.5, commissions=0.075, timeframe='1h'):\n",
    "    contracts = contracts if isinstance(contracts, list) else [contracts]\n",
    "    \n",
    "    if data.conv_symbol:\n",
    "        cdata = data.conv_data.ohlc(timeframe)\n",
    "        test_data = data.data.ohlc(timeframe)\n",
    "\n",
    "        ci = cdata[data.conv_symbol][['open', 'high', 'low', 'close']]\n",
    "        new_data = {k: scols(v[['open', 'high', 'low', 'close']] * ci, v['volume']).dropna() \n",
    "                    for k,v in test_data.items() if k != data.underlying}\n",
    "        test_data = {**new_data, **{data.underlying: test_data[data.underlying]}}\n",
    "    else:\n",
    "        test_data = data.data.ohlc(timeframe)\n",
    "    \n",
    "    # preparing models \n",
    "    models = {c.name: q.PortfolioComposer(model).select([c.name, c.underlying]).fit(test_data) for c in contracts}\n",
    "    \n",
    "    # run all simulations\n",
    "    rs = q.simulation(models, test_data, 'crypto_futures', spreads=spread)\n",
    "    return rs\n",
    "\n",
    "def simulate_rolling_model(data, model, spread=0.5, commissions=0.075, timeframe='1h') -> mstruct:\n",
    "    # run all contracts\n",
    "    rs = simulate_models(data, model, data.ctrs, spread, commissions, timeframe)\n",
    "    \n",
    "    xbt_pfl = None\n",
    "    rest_pfl = None\n",
    "    for r in rs.results:\n",
    "        if len(r.executions) > 0:\n",
    "            p = r.get_portfolio(commissions=commissions)\n",
    "            pxbt = p.filter(regex=f'{data.underlying}_.*')\n",
    "            rest_pfl = scols(rest_pfl, p.filter(regex=f\"^(?!{data.underlying}).*?$\"))\n",
    "            \n",
    "            if xbt_pfl is None:\n",
    "                xbt_pfl = pxbt\n",
    "            else:\n",
    "                _p = scols(xbt_pfl, pxbt, keys=['A', 'B']).fillna(0)\n",
    "                xbt_pfl = _p.A + _p.B\n",
    "\n",
    "    total_protfolio = scols(xbt_pfl, rest_pfl) \n",
    "    \n",
    "    f_name = ' -> '.join([str(v).replace(' ', '').replace('\\n', '') for k, v in model.steps])\n",
    "    return mstruct(portfolio=total_protfolio, name=f_name, simulations=rs)"
   ]
  },
  {
   "cell_type": "markdown",
   "metadata": {},
   "source": [
    "# XBTUSD\n",
    "<hr/>"
   ]
  },
  {
   "cell_type": "code",
   "execution_count": 3,
   "metadata": {},
   "outputs": [],
   "source": [
    "d = prepare_data('XBTUSD')"
   ]
  },
  {
   "cell_type": "code",
   "execution_count": 61,
   "metadata": {},
   "outputs": [
    {
     "data": {
      "application/vnd.jupyter.widget-view+json": {
       "model_id": "6a71c9ae6dfc44eaa2f56d8856e04acf",
       "version_major": 2,
       "version_minor": 0
      },
      "text/plain": [
       "HBox(children=(HTML(value='backtest'), FloatProgress(value=0.0, max=1500.0), HTML(value='')))"
      ]
     },
     "metadata": {},
     "output_type": "display_data"
    },
    {
     "name": "stdout",
     "output_type": "stream",
     "text": [
      "\n"
     ]
    }
   ],
   "source": [
    "r_xbt1 = simulate_rolling_model(d, q.make_pipeline(\n",
    "    SpreadMaker(AbsSpreadCalculator(), PeriodSmoother('7d', 'ema')),\n",
    "    SimpleSpreadTrader(1000, 80, 0)))"
   ]
  },
  {
   "cell_type": "code",
   "execution_count": 62,
   "metadata": {},
   "outputs": [
    {
     "data": {
      "text/html": [
       "\n",
       "\n",
       "\n",
       "\n",
       "\n",
       "<style>\n",
       ".report_table td, .report_table th {\n",
       "    text-align:left !important;\n",
       "}\n",
       "\n",
       ".wrap_table th {\n",
       "    text-align:center !important;\n",
       "}\n",
       "\n",
       ".wrap_table td, .wrap_table tr {\n",
       "    background: none !important;\n",
       "    text-align:left !important;\n",
       "}\n",
       "\n",
       ".flex-container {\n",
       "   display: flex;\n",
       "  align-items: flex-start;\n",
       "}\n",
       "\n",
       ".table_block {\n",
       "  width:30%;\n",
       "}\n",
       "\n",
       "</style>\n",
       "\n",
       "\n",
       "<table class=\"wrap_table\" width=100%>\n",
       "<th><font size=3 color=\"green\" text-align=\"center\">SpreadMaker(calculator=AbsSpreadCalculator(),smoother=PeriodSmoother(period='7d')) -> SimpleSpreadTrader(entry=80,exit=0,size=1000)</font></th>\n",
       "<tr><td><font color=\"#3030ff\" size=-2></font></td></tr>\n",
       "</table>\n",
       "\n",
       "<div class=\"flex-container\"><div class=\"\">\n",
       "<img src='data:image/png;base64,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'>\n",
       "</div>\n",
       "<div class=\"table_block\">\n",
       "<table class=\"report_table\" width=100%>\n",
       "<tr>\n",
       "<th>\n",
       "Statistic\n",
       "</th>\n",
       "<th>\n",
       "Model\n",
       "</th>\n",
       "</tr>\n",
       "<tr><td>Gain (USD):</td><td>833.89</td></tr>\n",
       "<tr><td>CAGR (%):</td><td>13.082</td></tr>\n",
       "<tr><td>Sharpe:</td><td>1.486</td></tr>\n",
       "<tr><td>Sortino:</td><td>2.308</td></tr>\n",
       "<tr><td>Calmar: </td><td>2.022</td></tr>\n",
       "<tr><td>MaxDD (%):</td><td>9.373</td></tr>\n",
       "<tr><td>MaxDD On Init BP (%):</td><td>13.023</td></tr>\n",
       "<tr><td>MaxDD (USD):</td><td>130.228</td></tr>\n",
       "<tr><td>MaxDD days:</td><td>19 days</td></tr>\n",
       "<tr><td>MaxDD start:</td><td>2019-06-17</td></tr>\n",
       "<tr><td>MaxDD peak:</td><td>2019-06-23</td></tr>\n",
       "<tr><td>MaxDD recover:</td><td>2019-07-06</td></tr>\n",
       "<tr><td>Tail Ratio:</td><td>1.669</td></tr>\n",
       "<tr><td>Stability: </td><td>0.962</td></tr>\n",
       "<tr><td>Alpha:</td><td></td></tr>\n",
       "<tr><td>Beta:</td><td></td></tr>\n",
       "<tr><td>Ann.Volatility (%):</td><td>8.52</td></tr>\n",
       "<tr><td>VAR_95 (USD):</td><td>8.32</td></tr>\n",
       "<tr><td>Mean return (%)</td><td>0.050</td></tr>\n",
       "<tr><td>Signals</td><td>???</td></tr>\n",
       "<tr><td>Broker's Commissions:</td><td></td></tr>\n",
       "</table>\n",
       "</div>\n",
       "</div></div>\n"
      ],
      "text/plain": [
       "<IPython.core.display.HTML object>"
      ]
     },
     "metadata": {},
     "output_type": "display_data"
    },
    {
     "data": {
      "text/plain": [
       "<Figure size 720x640 with 0 Axes>"
      ]
     },
     "metadata": {},
     "output_type": "display_data"
    }
   ],
   "source": [
    "tearsheet(r_xbt1, 1000)"
   ]
  },
  {
   "cell_type": "markdown",
   "metadata": {},
   "source": [
    "<hr/>"
   ]
  },
  {
   "cell_type": "code",
   "execution_count": 43,
   "metadata": {},
   "outputs": [
    {
     "data": {
      "application/vnd.jupyter.widget-view+json": {
       "model_id": "f5014ae34a0e4c0a938ac052210fcbfc",
       "version_major": 2,
       "version_minor": 0
      },
      "text/plain": [
       "HBox(children=(HTML(value='backtest'), FloatProgress(value=0.0, max=1500.0), HTML(value='')))"
      ]
     },
     "metadata": {},
     "output_type": "display_data"
    },
    {
     "name": "stdout",
     "output_type": "stream",
     "text": [
      "\n"
     ]
    }
   ],
   "source": [
    "r_xbt2 = simulate_rolling_model(d, q.make_pipeline(\n",
    "    SpreadMaker(PctSpreadCalculator(True), PeriodSmoother('7d', 'ema')), \n",
    "    SimpleSpreadTrader(1000, 0.015, 0)))"
   ]
  },
  {
   "cell_type": "code",
   "execution_count": 44,
   "metadata": {},
   "outputs": [
    {
     "data": {
      "text/html": [
       "\n",
       "\n",
       "\n",
       "\n",
       "\n",
       "<style>\n",
       ".report_table td, .report_table th {\n",
       "    text-align:left !important;\n",
       "}\n",
       "\n",
       ".wrap_table th {\n",
       "    text-align:center !important;\n",
       "}\n",
       "\n",
       ".wrap_table td, .wrap_table tr {\n",
       "    background: none !important;\n",
       "    text-align:left !important;\n",
       "}\n",
       "\n",
       ".flex-container {\n",
       "   display: flex;\n",
       "  align-items: flex-start;\n",
       "}\n",
       "\n",
       ".table_block {\n",
       "  width:30%;\n",
       "}\n",
       "\n",
       "</style>\n",
       "\n",
       "\n",
       "<table class=\"wrap_table\" width=100%>\n",
       "<th><font size=3 color=\"green\" text-align=\"center\">SpreadMaker(calculator=PctSpreadCalculator(logret=True),smoother=PeriodSmoother(period='7d')) -> SimpleSpreadTrader(entry=0.015,exit=0,size=1000)</font></th>\n",
       "<tr><td><font color=\"#3030ff\" size=-2></font></td></tr>\n",
       "</table>\n",
       "\n",
       "<div class=\"flex-container\"><div class=\"\">\n",
       "<img src='data:image/png;base64,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'>\n",
       "</div>\n",
       "<div class=\"table_block\">\n",
       "<table class=\"report_table\" width=100%>\n",
       "<tr>\n",
       "<th>\n",
       "Statistic\n",
       "</th>\n",
       "<th>\n",
       "Model\n",
       "</th>\n",
       "</tr>\n",
       "<tr><td>Gain (USD):</td><td>635.90</td></tr>\n",
       "<tr><td>CAGR (%):</td><td>10.423</td></tr>\n",
       "<tr><td>Sharpe:</td><td>1.047</td></tr>\n",
       "<tr><td>Sortino:</td><td>1.663</td></tr>\n",
       "<tr><td>Calmar: </td><td>1.297</td></tr>\n",
       "<tr><td>MaxDD (%):</td><td>9.261</td></tr>\n",
       "<tr><td>MaxDD On Init BP (%):</td><td>12.160</td></tr>\n",
       "<tr><td>MaxDD (USD):</td><td>121.602</td></tr>\n",
       "<tr><td>MaxDD days:</td><td>23 days</td></tr>\n",
       "<tr><td>MaxDD start:</td><td>2019-06-17</td></tr>\n",
       "<tr><td>MaxDD peak:</td><td>2019-06-23</td></tr>\n",
       "<tr><td>MaxDD recover:</td><td>2019-07-11</td></tr>\n",
       "<tr><td>Tail Ratio:</td><td>1.454</td></tr>\n",
       "<tr><td>Stability: </td><td>0.949</td></tr>\n",
       "<tr><td>Alpha:</td><td></td></tr>\n",
       "<tr><td>Beta:</td><td></td></tr>\n",
       "<tr><td>Ann.Volatility (%):</td><td>9.94</td></tr>\n",
       "<tr><td>VAR_95 (USD):</td><td>9.88</td></tr>\n",
       "<tr><td>Mean return (%)</td><td>0.041</td></tr>\n",
       "<tr><td>Signals</td><td>???</td></tr>\n",
       "<tr><td>Broker's Commissions:</td><td></td></tr>\n",
       "</table>\n",
       "</div>\n",
       "</div></div>\n"
      ],
      "text/plain": [
       "<IPython.core.display.HTML object>"
      ]
     },
     "metadata": {},
     "output_type": "display_data"
    },
    {
     "data": {
      "text/plain": [
       "<Figure size 720x640 with 0 Axes>"
      ]
     },
     "metadata": {},
     "output_type": "display_data"
    }
   ],
   "source": [
    "tearsheet(r_xbt2, 1000)"
   ]
  },
  {
   "cell_type": "markdown",
   "metadata": {},
   "source": [
    "<hr/>"
   ]
  },
  {
   "cell_type": "code",
   "execution_count": 45,
   "metadata": {},
   "outputs": [
    {
     "data": {
      "application/vnd.jupyter.widget-view+json": {
       "model_id": "0ab88d0fd2f7424da613f1313db3e654",
       "version_major": 2,
       "version_minor": 0
      },
      "text/plain": [
       "HBox(children=(HTML(value='backtest'), FloatProgress(value=0.0, max=1500.0), HTML(value='')))"
      ]
     },
     "metadata": {},
     "output_type": "display_data"
    },
    {
     "name": "stdout",
     "output_type": "stream",
     "text": [
      "\n"
     ]
    }
   ],
   "source": [
    "r_xbt3 = simulate_rolling_model(d, q.make_pipeline(\n",
    "    SpreadMaker(PctSpreadCalculator(True), KalmanSmoother(1e-6, 1)), \n",
    "    SimpleSpreadTrader(1000, 0.015, 0)))"
   ]
  },
  {
   "cell_type": "code",
   "execution_count": 46,
   "metadata": {},
   "outputs": [
    {
     "data": {
      "text/html": [
       "\n",
       "\n",
       "\n",
       "\n",
       "\n",
       "<style>\n",
       ".report_table td, .report_table th {\n",
       "    text-align:left !important;\n",
       "}\n",
       "\n",
       ".wrap_table th {\n",
       "    text-align:center !important;\n",
       "}\n",
       "\n",
       ".wrap_table td, .wrap_table tr {\n",
       "    background: none !important;\n",
       "    text-align:left !important;\n",
       "}\n",
       "\n",
       ".flex-container {\n",
       "   display: flex;\n",
       "  align-items: flex-start;\n",
       "}\n",
       "\n",
       ".table_block {\n",
       "  width:30%;\n",
       "}\n",
       "\n",
       "</style>\n",
       "\n",
       "\n",
       "<table class=\"wrap_table\" width=100%>\n",
       "<th><font size=3 color=\"green\" text-align=\"center\">SpreadMaker(calculator=PctSpreadCalculator(logret=True),smoother=KalmanSmoother(mvar=1,pvar=1e-06)) -> SimpleSpreadTrader(entry=0.015,exit=0,size=1000)</font></th>\n",
       "<tr><td><font color=\"#3030ff\" size=-2></font></td></tr>\n",
       "</table>\n",
       "\n",
       "<div class=\"flex-container\"><div class=\"\">\n",
       "<img src='data:image/png;base64,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'>\n",
       "</div>\n",
       "<div class=\"table_block\">\n",
       "<table class=\"report_table\" width=100%>\n",
       "<tr>\n",
       "<th>\n",
       "Statistic\n",
       "</th>\n",
       "<th>\n",
       "Model\n",
       "</th>\n",
       "</tr>\n",
       "<tr><td>Gain (USD):</td><td>1130.67</td></tr>\n",
       "<tr><td>CAGR (%):</td><td>16.837</td></tr>\n",
       "<tr><td>Sharpe:</td><td>1.565</td></tr>\n",
       "<tr><td>Sortino:</td><td>2.565</td></tr>\n",
       "<tr><td>Calmar: </td><td>1.727</td></tr>\n",
       "<tr><td>MaxDD (%):</td><td>10.490</td></tr>\n",
       "<tr><td>MaxDD On Init BP (%):</td><td>11.863</td></tr>\n",
       "<tr><td>MaxDD (USD):</td><td>118.627</td></tr>\n",
       "<tr><td>MaxDD days:</td><td>201 days</td></tr>\n",
       "<tr><td>MaxDD start:</td><td>2018-01-11</td></tr>\n",
       "<tr><td>MaxDD peak:</td><td>2018-01-23</td></tr>\n",
       "<tr><td>MaxDD recover:</td><td>2018-07-31</td></tr>\n",
       "<tr><td>Tail Ratio:</td><td>1.623</td></tr>\n",
       "<tr><td>Stability: </td><td>0.987</td></tr>\n",
       "<tr><td>Alpha:</td><td></td></tr>\n",
       "<tr><td>Beta:</td><td></td></tr>\n",
       "<tr><td>Ann.Volatility (%):</td><td>10.28</td></tr>\n",
       "<tr><td>VAR_95 (USD):</td><td>10.01</td></tr>\n",
       "<tr><td>Mean return (%)</td><td>0.064</td></tr>\n",
       "<tr><td>Signals</td><td>???</td></tr>\n",
       "<tr><td>Broker's Commissions:</td><td></td></tr>\n",
       "</table>\n",
       "</div>\n",
       "</div></div>\n"
      ],
      "text/plain": [
       "<IPython.core.display.HTML object>"
      ]
     },
     "metadata": {},
     "output_type": "display_data"
    },
    {
     "data": {
      "text/plain": [
       "<Figure size 720x640 with 0 Axes>"
      ]
     },
     "metadata": {},
     "output_type": "display_data"
    }
   ],
   "source": [
    "tearsheet(r_xbt3, 1000)"
   ]
  },
  {
   "cell_type": "markdown",
   "metadata": {},
   "source": [
    "<hr/>"
   ]
  },
  {
   "cell_type": "code",
   "execution_count": 47,
   "metadata": {},
   "outputs": [
    {
     "data": {
      "application/vnd.jupyter.widget-view+json": {
       "model_id": "a72bd87ea69f44d3bffa3afb185cf735",
       "version_major": 2,
       "version_minor": 0
      },
      "text/plain": [
       "HBox(children=(HTML(value='backtest'), FloatProgress(value=0.0, max=1500.0), HTML(value='')))"
      ]
     },
     "metadata": {},
     "output_type": "display_data"
    },
    {
     "name": "stdout",
     "output_type": "stream",
     "text": [
      "\n"
     ]
    }
   ],
   "source": [
    "r_xbt4 = simulate_rolling_model(d, q.make_pipeline(\n",
    "    SpreadMaker(PctSpreadCalculator(False), KalmanSmoother(1e-6, 1)), \n",
    "    SimpleSpreadTrader(1000, 0.015, 0)))"
   ]
  },
  {
   "cell_type": "code",
   "execution_count": 48,
   "metadata": {},
   "outputs": [
    {
     "data": {
      "text/html": [
       "\n",
       "\n",
       "\n",
       "\n",
       "\n",
       "<style>\n",
       ".report_table td, .report_table th {\n",
       "    text-align:left !important;\n",
       "}\n",
       "\n",
       ".wrap_table th {\n",
       "    text-align:center !important;\n",
       "}\n",
       "\n",
       ".wrap_table td, .wrap_table tr {\n",
       "    background: none !important;\n",
       "    text-align:left !important;\n",
       "}\n",
       "\n",
       ".flex-container {\n",
       "   display: flex;\n",
       "  align-items: flex-start;\n",
       "}\n",
       "\n",
       ".table_block {\n",
       "  width:30%;\n",
       "}\n",
       "\n",
       "</style>\n",
       "\n",
       "\n",
       "<table class=\"wrap_table\" width=100%>\n",
       "<th><font size=3 color=\"green\" text-align=\"center\">SpreadMaker(calculator=PctSpreadCalculator(),smoother=KalmanSmoother(mvar=1,pvar=1e-06)) -> SimpleSpreadTrader(entry=0.015,exit=0,size=1000)</font></th>\n",
       "<tr><td><font color=\"#3030ff\" size=-2></font></td></tr>\n",
       "</table>\n",
       "\n",
       "<div class=\"flex-container\"><div class=\"\">\n",
       "<img src='data:image/png;base64,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'>\n",
       "</div>\n",
       "<div class=\"table_block\">\n",
       "<table class=\"report_table\" width=100%>\n",
       "<tr>\n",
       "<th>\n",
       "Statistic\n",
       "</th>\n",
       "<th>\n",
       "Model\n",
       "</th>\n",
       "</tr>\n",
       "<tr><td>Gain (USD):</td><td>1078.39</td></tr>\n",
       "<tr><td>CAGR (%):</td><td>16.002</td></tr>\n",
       "<tr><td>Sharpe:</td><td>1.485</td></tr>\n",
       "<tr><td>Sortino:</td><td>2.462</td></tr>\n",
       "<tr><td>Calmar: </td><td>1.682</td></tr>\n",
       "<tr><td>MaxDD (%):</td><td>10.134</td></tr>\n",
       "<tr><td>MaxDD On Init BP (%):</td><td>11.753</td></tr>\n",
       "<tr><td>MaxDD (USD):</td><td>117.525</td></tr>\n",
       "<tr><td>MaxDD days:</td><td>206 days</td></tr>\n",
       "<tr><td>MaxDD start:</td><td>2018-01-11</td></tr>\n",
       "<tr><td>MaxDD peak:</td><td>2018-05-06</td></tr>\n",
       "<tr><td>MaxDD recover:</td><td>2018-08-05</td></tr>\n",
       "<tr><td>Tail Ratio:</td><td>1.626</td></tr>\n",
       "<tr><td>Stability: </td><td>0.986</td></tr>\n",
       "<tr><td>Alpha:</td><td></td></tr>\n",
       "<tr><td>Beta:</td><td></td></tr>\n",
       "<tr><td>Ann.Volatility (%):</td><td>10.36</td></tr>\n",
       "<tr><td>VAR_95 (USD):</td><td>10.12</td></tr>\n",
       "<tr><td>Mean return (%)</td><td>0.061</td></tr>\n",
       "<tr><td>Signals</td><td>???</td></tr>\n",
       "<tr><td>Broker's Commissions:</td><td></td></tr>\n",
       "</table>\n",
       "</div>\n",
       "</div></div>\n"
      ],
      "text/plain": [
       "<IPython.core.display.HTML object>"
      ]
     },
     "metadata": {},
     "output_type": "display_data"
    },
    {
     "data": {
      "text/plain": [
       "<Figure size 720x640 with 0 Axes>"
      ]
     },
     "metadata": {},
     "output_type": "display_data"
    }
   ],
   "source": [
    "tearsheet(r_xbt4, 1000)"
   ]
  },
  {
   "cell_type": "markdown",
   "metadata": {},
   "source": [
    "# ETHUSD\n",
    "<hr/>"
   ]
  },
  {
   "cell_type": "code",
   "execution_count": 74,
   "metadata": {},
   "outputs": [],
   "source": [
    "d_eth = prepare_data('ETHUSD', 'XBTUSD')"
   ]
  },
  {
   "cell_type": "code",
   "execution_count": 78,
   "metadata": {},
   "outputs": [
    {
     "data": {
      "application/vnd.jupyter.widget-view+json": {
       "model_id": "e7d36ee8ea8541a7814909e17b85b80d",
       "version_major": 2,
       "version_minor": 0
      },
      "text/plain": [
       "HBox(children=(HTML(value='backtest'), FloatProgress(value=0.0, max=1400.0), HTML(value='')))"
      ]
     },
     "metadata": {},
     "output_type": "display_data"
    },
    {
     "name": "stderr",
     "output_type": "stream",
     "text": [
      "2021-06-03 12:50:10,930 - ira.simulator.SignalTester - WARNING - Can't find prices for signals at time [2018-03-30 12:48:00.001000]\n",
      "2021-06-03 12:50:17,529 - ira.simulator.SignalTester - WARNING - Can't find prices for signals at time [2021-05-18 23:48:00.001000]\n",
      "2021-06-03 12:50:18,226 - ira.simulator.SignalTester - WARNING - Can't find prices for signals at time [2018-06-29 12:48:00.001000]\n",
      "2021-06-03 12:50:24,547 - ira.simulator.SignalTester - WARNING - Can't find prices for signals at time [2021-05-18 23:48:00.001000]\n"
     ]
    },
    {
     "name": "stdout",
     "output_type": "stream",
     "text": [
      "\n"
     ]
    },
    {
     "data": {
      "text/html": [
       "\n",
       "\n",
       "\n",
       "\n",
       "\n",
       "<style>\n",
       ".report_table td, .report_table th {\n",
       "    text-align:left !important;\n",
       "}\n",
       "\n",
       ".wrap_table th {\n",
       "    text-align:center !important;\n",
       "}\n",
       "\n",
       ".wrap_table td, .wrap_table tr {\n",
       "    background: none !important;\n",
       "    text-align:left !important;\n",
       "}\n",
       "\n",
       ".flex-container {\n",
       "   display: flex;\n",
       "  align-items: flex-start;\n",
       "}\n",
       "\n",
       ".table_block {\n",
       "  width:30%;\n",
       "}\n",
       "\n",
       "</style>\n",
       "\n",
       "\n",
       "<table class=\"wrap_table\" width=100%>\n",
       "<th><font size=3 color=\"green\" text-align=\"center\">SpreadMaker(calculator=AbsSpreadCalculator(),smoother=PeriodSmoother(period='5d')) -> SimpleSpreadTrader(entry=20,exit=0,size=1000)</font></th>\n",
       "<tr><td><font color=\"#3030ff\" size=-2></font></td></tr>\n",
       "</table>\n",
       "\n",
       "<div class=\"flex-container\"><div class=\"\">\n",
       "<img src='data:image/png;base64,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'>\n",
       "</div>\n",
       "<div class=\"table_block\">\n",
       "<table class=\"report_table\" width=100%>\n",
       "<tr>\n",
       "<th>\n",
       "Statistic\n",
       "</th>\n",
       "<th>\n",
       "Model\n",
       "</th>\n",
       "</tr>\n",
       "<tr><td>Gain (USD):</td><td>95.65</td></tr>\n",
       "<tr><td>CAGR (%):</td><td>16.123</td></tr>\n",
       "<tr><td>Sharpe:</td><td>3.029</td></tr>\n",
       "<tr><td>Sortino:</td><td>8.373</td></tr>\n",
       "<tr><td>Calmar: </td><td>12.872</td></tr>\n",
       "<tr><td>MaxDD (%):</td><td>2.010</td></tr>\n",
       "<tr><td>MaxDD On Init BP (%):</td><td>2.055</td></tr>\n",
       "<tr><td>MaxDD (USD):</td><td>20.546</td></tr>\n",
       "<tr><td>MaxDD days:</td><td>1 days</td></tr>\n",
       "<tr><td>MaxDD start:</td><td>2021-03-13</td></tr>\n",
       "<tr><td>MaxDD peak:</td><td>2021-03-13</td></tr>\n",
       "<tr><td>MaxDD recover:</td><td>2021-03-14</td></tr>\n",
       "<tr><td>Tail Ratio:</td><td>28.496</td></tr>\n",
       "<tr><td>Stability: </td><td>0.853</td></tr>\n",
       "<tr><td>Alpha:</td><td></td></tr>\n",
       "<tr><td>Beta:</td><td></td></tr>\n",
       "<tr><td>Ann.Volatility (%):</td><td>4.98</td></tr>\n",
       "<tr><td>VAR_95 (USD):</td><td>4.54</td></tr>\n",
       "<tr><td>Mean return (%)</td><td>0.060</td></tr>\n",
       "<tr><td>Signals</td><td>???</td></tr>\n",
       "<tr><td>Broker's Commissions:</td><td></td></tr>\n",
       "</table>\n",
       "</div>\n",
       "</div></div>\n"
      ],
      "text/plain": [
       "<IPython.core.display.HTML object>"
      ]
     },
     "metadata": {},
     "output_type": "display_data"
    },
    {
     "data": {
      "text/plain": [
       "<Figure size 720x640 with 0 Axes>"
      ]
     },
     "metadata": {},
     "output_type": "display_data"
    }
   ],
   "source": [
    "r_eth1 = simulate_rolling_model(d_eth, q.make_pipeline(\n",
    "    SpreadMaker(AbsSpreadCalculator(), PeriodSmoother('5d', 'ema')),\n",
    "    SimpleSpreadTrader(1000, 20, 0)))\n",
    "\n",
    "tearsheet(r_eth1, 1000)"
   ]
  },
  {
   "cell_type": "code",
   "execution_count": 76,
   "metadata": {},
   "outputs": [],
   "source": [
    "r_eth2 = simulate_rolling_model(d_eth, q.make_pipeline(\n",
    "    SpreadMaker(PctSpreadCalculator(), PeriodSmoother('5d', 'ema')),\n",
    "    SimpleSpreadTrader(1000, 0.01, 0)))\n",
    "\n",
    "tearsheet(r_eth2, 1000)"
   ]
  },
  {
   "cell_type": "code",
   "execution_count": 58,
   "metadata": {},
   "outputs": [],
   "source": [
    "r_eth3 = simulate_rolling_model(d_eth, q.make_pipeline(\n",
    "    SpreadMaker(PctSpreadCalculator(True), KalmanSmoother(1e-6, 1)), \n",
    "    SimpleSpreadTrader(1000, 0.01, 0)))\n",
    "\n",
    "tearsheet(r_eth3, 1000)"
   ]
  },
  {
   "cell_type": "markdown",
   "metadata": {},
   "source": [
    "# Validation"
   ]
  },
  {
   "cell_type": "code",
   "execution_count": 67,
   "metadata": {},
   "outputs": [
    {
     "data": {
      "application/vnd.jupyter.widget-view+json": {
       "model_id": "7d1140f2fa3043729c2a43a55abbdb3b",
       "version_major": 2,
       "version_minor": 0
      },
      "text/plain": [
       "HBox(children=(HTML(value='backtest'), FloatProgress(value=0.0), HTML(value='')))"
      ]
     },
     "metadata": {},
     "output_type": "display_data"
    },
    {
     "name": "stdout",
     "output_type": "stream",
     "text": [
      "\n"
     ]
    }
   ],
   "source": [
    "v = simulate_models(d, q.make_pipeline(SpreadMaker(AbsSpreadCalculator(), PeriodSmoother('7d', 'ema')), \n",
    "                                       SimpleSpreadTrader(1000, 80, 0)), \n",
    "                    d.ctrs[-1])"
   ]
  },
  {
   "cell_type": "code",
   "execution_count": null,
   "metadata": {},
   "outputs": [],
   "source": [
    "ex = v.results[0].executions\n",
    "ex[ex.instrument=='XBTUSD']"
   ]
  },
  {
   "cell_type": "code",
   "execution_count": null,
   "metadata": {},
   "outputs": [],
   "source": []
  },
  {
   "cell_type": "code",
   "execution_count": null,
   "metadata": {},
   "outputs": [],
   "source": []
  },
  {
   "cell_type": "code",
   "execution_count": null,
   "metadata": {},
   "outputs": [],
   "source": []
  },
  {
   "cell_type": "code",
   "execution_count": null,
   "metadata": {},
   "outputs": [],
   "source": []
  },
  {
   "cell_type": "code",
   "execution_count": null,
   "metadata": {},
   "outputs": [],
   "source": []
  },
  {
   "cell_type": "code",
   "execution_count": null,
   "metadata": {},
   "outputs": [],
   "source": []
  },
  {
   "cell_type": "code",
   "execution_count": null,
   "metadata": {},
   "outputs": [],
   "source": []
  },
  {
   "cell_type": "code",
   "execution_count": null,
   "metadata": {},
   "outputs": [],
   "source": []
  },
  {
   "cell_type": "code",
   "execution_count": null,
   "metadata": {},
   "outputs": [],
   "source": []
  },
  {
   "cell_type": "code",
   "execution_count": null,
   "metadata": {},
   "outputs": [],
   "source": []
  },
  {
   "cell_type": "code",
   "execution_count": null,
   "metadata": {},
   "outputs": [],
   "source": []
  },
  {
   "cell_type": "code",
   "execution_count": null,
   "metadata": {},
   "outputs": [],
   "source": []
  },
  {
   "cell_type": "code",
   "execution_count": null,
   "metadata": {},
   "outputs": [],
   "source": []
  },
  {
   "cell_type": "code",
   "execution_count": null,
   "metadata": {},
   "outputs": [],
   "source": []
  },
  {
   "cell_type": "code",
   "execution_count": null,
   "metadata": {},
   "outputs": [],
   "source": []
  },
  {
   "cell_type": "code",
   "execution_count": null,
   "metadata": {},
   "outputs": [],
   "source": []
  },
  {
   "cell_type": "code",
   "execution_count": null,
   "metadata": {},
   "outputs": [],
   "source": []
  },
  {
   "cell_type": "code",
   "execution_count": null,
   "metadata": {},
   "outputs": [],
   "source": []
  },
  {
   "cell_type": "code",
   "execution_count": null,
   "metadata": {},
   "outputs": [],
   "source": []
  },
  {
   "cell_type": "code",
   "execution_count": null,
   "metadata": {},
   "outputs": [],
   "source": []
  },
  {
   "cell_type": "code",
   "execution_count": null,
   "metadata": {},
   "outputs": [],
   "source": []
  },
  {
   "cell_type": "code",
   "execution_count": null,
   "metadata": {},
   "outputs": [],
   "source": []
  },
  {
   "cell_type": "code",
   "execution_count": null,
   "metadata": {},
   "outputs": [],
   "source": []
  },
  {
   "cell_type": "code",
   "execution_count": null,
   "metadata": {},
   "outputs": [],
   "source": []
  },
  {
   "cell_type": "code",
   "execution_count": null,
   "metadata": {},
   "outputs": [],
   "source": []
  }
 ],
 "metadata": {
  "kernelspec": {
   "display_name": "Python 3",
   "language": "python",
   "name": "python3"
  },
  "language_info": {
   "codemirror_mode": {
    "name": "ipython",
    "version": 3
   },
   "file_extension": ".py",
   "mimetype": "text/x-python",
   "name": "python",
   "nbconvert_exporter": "python",
   "pygments_lexer": "ipython3",
   "version": "3.6.9"
  },
  "widgets": {
   "application/vnd.jupyter.widget-state+json": {
    "state": {
     "009ea0a405594e9b97a2232b30a0381b": {
      "model_module": "@jupyter-widgets/base",
      "model_module_version": "1.2.0",
      "model_name": "LayoutModel",
      "state": {}
     },
     "01bb3170c7404359a322e194b378ca03": {
      "model_module": "@jupyter-widgets/base",
      "model_module_version": "1.2.0",
      "model_name": "LayoutModel",
      "state": {}
     },
     "024dd6684d5540b6a55fab966bf89608": {
      "model_module": "@jupyter-widgets/controls",
      "model_module_version": "1.5.0",
      "model_name": "DescriptionStyleModel",
      "state": {
       "description_width": ""
      }
     },
     "03c0c665948a47b8bd9e0488c5087c56": {
      "model_module": "@jupyter-widgets/controls",
      "model_module_version": "1.5.0",
      "model_name": "HTMLModel",
      "state": {
       "layout": "IPY_MODEL_e498d1c47f33475db5d33b52174f5c88",
       "style": "IPY_MODEL_ce5c9edfd8174c84ae86daa27e37d02b",
       "value": "Backtest : 100%"
      }
     },
     "0581ac9e0a6941bd8b14b969745cd710": {
      "model_module": "@jupyter-widgets/controls",
      "model_module_version": "1.5.0",
      "model_name": "HTMLModel",
      "state": {
       "layout": "IPY_MODEL_1634ae98abba4da2a27289466b913106",
       "style": "IPY_MODEL_1ebc1dc8059548b09e0a5ff105cf40dc",
       "value": "Backtest : 100%"
      }
     },
     "0754e3f51ef948eba1f181e073b2f763": {
      "model_module": "@jupyter-widgets/base",
      "model_module_version": "1.2.0",
      "model_name": "LayoutModel",
      "state": {}
     },
     "07a6f33ef4764c3691d242340e713c0b": {
      "model_module": "@jupyter-widgets/controls",
      "model_module_version": "1.5.0",
      "model_name": "HTMLModel",
      "state": {
       "layout": "IPY_MODEL_f1695c680e294f0180f66fab9ae67b5d",
       "style": "IPY_MODEL_3e9bd4135fda44c1883156da19dbe17e",
       "value": "Backtest : 100%"
      }
     },
     "0a4f81049a814277bcf4ec84e0dc3d11": {
      "model_module": "@jupyter-widgets/base",
      "model_module_version": "1.2.0",
      "model_name": "LayoutModel",
      "state": {}
     },
     "0ab39d7d5a05403e9798a37cf7368ca2": {
      "model_module": "@jupyter-widgets/controls",
      "model_module_version": "1.5.0",
      "model_name": "DescriptionStyleModel",
      "state": {
       "description_width": ""
      }
     },
     "0ab88d0fd2f7424da613f1313db3e654": {
      "model_module": "@jupyter-widgets/controls",
      "model_module_version": "1.5.0",
      "model_name": "HBoxModel",
      "state": {
       "children": [
        "IPY_MODEL_5786d6846e1e4fc886c80a288a2de27d",
        "IPY_MODEL_76f24ea3455a4ddd915598b5d0184a09",
        "IPY_MODEL_500bbcf5cf7f4c238be328b943ca3c53"
       ],
       "layout": "IPY_MODEL_842acbbad44c4d54bbbea5b2eea56ca6"
      }
     },
     "0ad1d4c81cdb49c4934574b863c9d7e0": {
      "model_module": "@jupyter-widgets/controls",
      "model_module_version": "1.5.0",
      "model_name": "HTMLModel",
      "state": {
       "layout": "IPY_MODEL_0b320d9ae7a140ecb2ef07146fcb5434",
       "style": "IPY_MODEL_729e5a50d36c4f21a7e0e6e795cbe57d",
       "value": " 1400.0Y/1400.0Y [00:15&lt;00:00, 88.3 signals/s]"
      }
     },
     "0b29911c11364d77b646bb79f8872679": {
      "model_module": "@jupyter-widgets/base",
      "model_module_version": "1.2.0",
      "model_name": "LayoutModel",
      "state": {}
     },
     "0b320d9ae7a140ecb2ef07146fcb5434": {
      "model_module": "@jupyter-widgets/base",
      "model_module_version": "1.2.0",
      "model_name": "LayoutModel",
      "state": {}
     },
     "0bdb67ae7d9f4143ab9db1a69585561a": {
      "model_module": "@jupyter-widgets/base",
      "model_module_version": "1.2.0",
      "model_name": "LayoutModel",
      "state": {}
     },
     "0c8d9997dcc047678959acbdb937e87d": {
      "model_module": "@jupyter-widgets/controls",
      "model_module_version": "1.5.0",
      "model_name": "HTMLModel",
      "state": {
       "layout": "IPY_MODEL_b35264aeddb042338910a370ce89f0b4",
       "style": "IPY_MODEL_dd1e76552ec94b0a82f322ce709b3c91",
       "value": " 1400.0Y/1400.0Y [01:32&lt;00:00, 15.1 signals/s]"
      }
     },
     "0faba982b4db4cb89fc4f3a6b11c7673": {
      "model_module": "@jupyter-widgets/controls",
      "model_module_version": "1.5.0",
      "model_name": "HBoxModel",
      "state": {
       "children": [
        "IPY_MODEL_84ef9a9625b440da90e02fe6744219a8",
        "IPY_MODEL_9ef4a9309b084d869b9bc8213b757fa3",
        "IPY_MODEL_62da7fc68a474dbbac070f8e8301d669"
       ],
       "layout": "IPY_MODEL_009ea0a405594e9b97a2232b30a0381b"
      }
     },
     "114cd2ea2824408299006e82a9ae51f0": {
      "model_module": "@jupyter-widgets/controls",
      "model_module_version": "1.5.0",
      "model_name": "DescriptionStyleModel",
      "state": {
       "description_width": ""
      }
     },
     "120fedb599b94176b91bb64052f86e01": {
      "model_module": "@jupyter-widgets/controls",
      "model_module_version": "1.5.0",
      "model_name": "ProgressStyleModel",
      "state": {
       "description_width": ""
      }
     },
     "1634ae98abba4da2a27289466b913106": {
      "model_module": "@jupyter-widgets/base",
      "model_module_version": "1.2.0",
      "model_name": "LayoutModel",
      "state": {}
     },
     "16aaa395b6bf4818ace0b577754c094d": {
      "model_module": "@jupyter-widgets/controls",
      "model_module_version": "1.5.0",
      "model_name": "ProgressStyleModel",
      "state": {
       "description_width": ""
      }
     },
     "1ad610baaf6340d095dcddfa935ef5fc": {
      "model_module": "@jupyter-widgets/controls",
      "model_module_version": "1.5.0",
      "model_name": "HTMLModel",
      "state": {
       "layout": "IPY_MODEL_3c032658604f4506a2f86ae9bac0b0e8",
       "style": "IPY_MODEL_efc72dd8f1d04c429d1695f61af6b938",
       "value": "Backtest : 100%"
      }
     },
     "1ae2b40adac548d1bdfa9126b566239b": {
      "model_module": "@jupyter-widgets/base",
      "model_module_version": "1.2.0",
      "model_name": "LayoutModel",
      "state": {}
     },
     "1d3362bbe0364220952c20a9e01dd80c": {
      "model_module": "@jupyter-widgets/controls",
      "model_module_version": "1.5.0",
      "model_name": "ProgressStyleModel",
      "state": {
       "description_width": ""
      }
     },
     "1dc11a5440bf4bd8bd3edf16919ce1d3": {
      "model_module": "@jupyter-widgets/controls",
      "model_module_version": "1.5.0",
      "model_name": "HBoxModel",
      "state": {
       "children": [
        "IPY_MODEL_d129a82f8dc845c0be830b0e31feb213",
        "IPY_MODEL_c8bbb6241e0f4640a19925ffcc2fec90",
        "IPY_MODEL_0c8d9997dcc047678959acbdb937e87d"
       ],
       "layout": "IPY_MODEL_d801d6d286fc477aa8bb5b1f7ce7d347"
      }
     },
     "1ebc1dc8059548b09e0a5ff105cf40dc": {
      "model_module": "@jupyter-widgets/controls",
      "model_module_version": "1.5.0",
      "model_name": "DescriptionStyleModel",
      "state": {
       "description_width": ""
      }
     },
     "1f13ce4612114464bc47ab60b16a26d6": {
      "model_module": "@jupyter-widgets/base",
      "model_module_version": "1.2.0",
      "model_name": "LayoutModel",
      "state": {}
     },
     "2067fed095684e5c8257cd2a8e1d35c5": {
      "model_module": "@jupyter-widgets/controls",
      "model_module_version": "1.5.0",
      "model_name": "HTMLModel",
      "state": {
       "layout": "IPY_MODEL_4cc20340ff5a4ee48f75be965d53d43d",
       "style": "IPY_MODEL_e26f80ea827744bf8cd1d8e781b3394c",
       "value": "Backtest : 100%"
      }
     },
     "2231e889db7f496da46402a429879449": {
      "model_module": "@jupyter-widgets/controls",
      "model_module_version": "1.5.0",
      "model_name": "HTMLModel",
      "state": {
       "layout": "IPY_MODEL_6c9222edecb44eb5ad98b4231b5a16e6",
       "style": "IPY_MODEL_d3847a0a084c4d87abd1ffe9388cc578",
       "value": "Backtest : 100%"
      }
     },
     "2289de935e3c4a5d9f94c75673251df3": {
      "model_module": "@jupyter-widgets/base",
      "model_module_version": "1.2.0",
      "model_name": "LayoutModel",
      "state": {}
     },
     "232b22c61ba84ec5b8683726f3b80f96": {
      "model_module": "@jupyter-widgets/controls",
      "model_module_version": "1.5.0",
      "model_name": "HTMLModel",
      "state": {
       "layout": "IPY_MODEL_0754e3f51ef948eba1f181e073b2f763",
       "style": "IPY_MODEL_ce5bff94c19b447cad18f05d79259c5c",
       "value": " 1500.0Y/1500.0Y [03:46&lt;00:00, 6.64 signals/s]"
      }
     },
     "243281fc6e424aaf8b4ec08af2c98ca1": {
      "model_module": "@jupyter-widgets/base",
      "model_module_version": "1.2.0",
      "model_name": "LayoutModel",
      "state": {}
     },
     "281d93cae8204f8b87f74981727238c1": {
      "model_module": "@jupyter-widgets/controls",
      "model_module_version": "1.5.0",
      "model_name": "DescriptionStyleModel",
      "state": {
       "description_width": ""
      }
     },
     "28ce5bc92f5b47d08ab2fd43dc1a97e7": {
      "model_module": "@jupyter-widgets/base",
      "model_module_version": "1.2.0",
      "model_name": "LayoutModel",
      "state": {}
     },
     "29d307da55ec4dbea2d6cd4cdca118ec": {
      "model_module": "@jupyter-widgets/controls",
      "model_module_version": "1.5.0",
      "model_name": "HTMLModel",
      "state": {
       "layout": "IPY_MODEL_6033b63fc7c146cb99bbf796e106e2e0",
       "style": "IPY_MODEL_467712a9fffa44e0923422cddf1ae14f",
       "value": " 1500.0Y/1500.0Y [00:41&lt;00:00, 36.2 signals/s]"
      }
     },
     "2b77b47703a04106b3d775c31150d819": {
      "model_module": "@jupyter-widgets/base",
      "model_module_version": "1.2.0",
      "model_name": "LayoutModel",
      "state": {}
     },
     "2ccc448128c34e888f2ebd3be3b893a8": {
      "model_module": "@jupyter-widgets/controls",
      "model_module_version": "1.5.0",
      "model_name": "DescriptionStyleModel",
      "state": {
       "description_width": ""
      }
     },
     "2e377d937a904b428656170df0a67560": {
      "model_module": "@jupyter-widgets/controls",
      "model_module_version": "1.5.0",
      "model_name": "HBoxModel",
      "state": {
       "children": [
        "IPY_MODEL_03c0c665948a47b8bd9e0488c5087c56",
        "IPY_MODEL_5ecc81088ed7448ca56ecfc00526422e",
        "IPY_MODEL_29d307da55ec4dbea2d6cd4cdca118ec"
       ],
       "layout": "IPY_MODEL_61b336f33abd462e99310f2ed26017c5"
      }
     },
     "2f9dec877b2c456aac7937e6a692751e": {
      "model_module": "@jupyter-widgets/controls",
      "model_module_version": "1.5.0",
      "model_name": "HTMLModel",
      "state": {
       "layout": "IPY_MODEL_7c5e220c39374b6aa2d46b6860cd96f1",
       "style": "IPY_MODEL_024dd6684d5540b6a55fab966bf89608",
       "value": " 100/100 [06:24&lt;00:00, 3.84s/ signals]"
      }
     },
     "3136f8cc506b416099385275184de940": {
      "model_module": "@jupyter-widgets/base",
      "model_module_version": "1.2.0",
      "model_name": "LayoutModel",
      "state": {}
     },
     "3242311f9fe44a01a80fa55999d8a05a": {
      "model_module": "@jupyter-widgets/base",
      "model_module_version": "1.2.0",
      "model_name": "LayoutModel",
      "state": {}
     },
     "33058c794364437087bc58cb2066d53c": {
      "model_module": "@jupyter-widgets/base",
      "model_module_version": "1.2.0",
      "model_name": "LayoutModel",
      "state": {}
     },
     "342ccb14c70b42ec83a698d38ec02162": {
      "model_module": "@jupyter-widgets/controls",
      "model_module_version": "1.5.0",
      "model_name": "HBoxModel",
      "state": {
       "children": [
        "IPY_MODEL_07a6f33ef4764c3691d242340e713c0b",
        "IPY_MODEL_e76feb2e820c416cbd0fbc4aaead9635",
        "IPY_MODEL_886fbc27e3ec4cc88c80d48e8fae7215"
       ],
       "layout": "IPY_MODEL_ca861720ef8d410f8fb1ab254293b5f1"
      }
     },
     "36dbf72768f54f559d3a713cdc58debe": {
      "model_module": "@jupyter-widgets/controls",
      "model_module_version": "1.5.0",
      "model_name": "DescriptionStyleModel",
      "state": {
       "description_width": ""
      }
     },
     "38c8f1e0d37249ba8bfc26d65add2ece": {
      "model_module": "@jupyter-widgets/controls",
      "model_module_version": "1.5.0",
      "model_name": "DescriptionStyleModel",
      "state": {
       "description_width": ""
      }
     },
     "39cde02490074cbf8ca3a02b6905c743": {
      "model_module": "@jupyter-widgets/controls",
      "model_module_version": "1.5.0",
      "model_name": "HBoxModel",
      "state": {
       "children": [
        "IPY_MODEL_da51c51d94924c85abf0f37baf69354b",
        "IPY_MODEL_6e17b9fa9fd44f47860e57f9c144be59",
        "IPY_MODEL_50084118b3bd481faeb3f93d3fe9dea9"
       ],
       "layout": "IPY_MODEL_5a385788152c43fd94e47d5d311c16b8"
      }
     },
     "3c032658604f4506a2f86ae9bac0b0e8": {
      "model_module": "@jupyter-widgets/base",
      "model_module_version": "1.2.0",
      "model_name": "LayoutModel",
      "state": {}
     },
     "3c1c1b983ca24bcea62a1072a7db2bfd": {
      "model_module": "@jupyter-widgets/controls",
      "model_module_version": "1.5.0",
      "model_name": "HTMLModel",
      "state": {
       "layout": "IPY_MODEL_5233957ffbff4e25ac250d7d31d9e4a0",
       "style": "IPY_MODEL_9d342df895d145edad63041e053af698",
       "value": "Backtest : 100%"
      }
     },
     "3d547f7494504ac38bb166cdef77bf47": {
      "model_module": "@jupyter-widgets/base",
      "model_module_version": "1.2.0",
      "model_name": "LayoutModel",
      "state": {}
     },
     "3e828258c9a544a7b78a52b8c5c0c54e": {
      "model_module": "@jupyter-widgets/controls",
      "model_module_version": "1.5.0",
      "model_name": "HTMLModel",
      "state": {
       "layout": "IPY_MODEL_61a3187b3c094b93a954d8459f057a98",
       "style": "IPY_MODEL_b9883fb3a01b44cf8516df8030ff4148",
       "value": " 1500.0Y/1500.0Y [00:14&lt;00:00, 103 signals/s]"
      }
     },
     "3e9bd4135fda44c1883156da19dbe17e": {
      "model_module": "@jupyter-widgets/controls",
      "model_module_version": "1.5.0",
      "model_name": "DescriptionStyleModel",
      "state": {
       "description_width": ""
      }
     },
     "3f4cd52e58d0428d9d55bdc5df1844a0": {
      "model_module": "@jupyter-widgets/base",
      "model_module_version": "1.2.0",
      "model_name": "LayoutModel",
      "state": {}
     },
     "40984342cbe94b419627733c9aaa3dbf": {
      "model_module": "@jupyter-widgets/base",
      "model_module_version": "1.2.0",
      "model_name": "LayoutModel",
      "state": {}
     },
     "4139f5b72568420f8c30c6447e711e26": {
      "model_module": "@jupyter-widgets/controls",
      "model_module_version": "1.5.0",
      "model_name": "HTMLModel",
      "state": {
       "layout": "IPY_MODEL_a30206f5b70e4878be5383a5d195094f",
       "style": "IPY_MODEL_c1637dcddd414711997c9cab2d394346",
       "value": " 1500.0Y/1500.0Y [01:04&lt;00:00, 23.3 signals/s]"
      }
     },
     "431d80c9f1834e7c82ef824a14960fe6": {
      "model_module": "@jupyter-widgets/controls",
      "model_module_version": "1.5.0",
      "model_name": "FloatProgressModel",
      "state": {
       "bar_style": "success",
       "layout": "IPY_MODEL_864855b656b04302be7cf39c7e40689d",
       "style": "IPY_MODEL_73657027fe3d4916bd3e53af91444d56",
       "value": 100
      }
     },
     "4399648375db42c7b6d46ecee6632199": {
      "model_module": "@jupyter-widgets/controls",
      "model_module_version": "1.5.0",
      "model_name": "FloatProgressModel",
      "state": {
       "bar_style": "success",
       "layout": "IPY_MODEL_5908b56c123347169e308fd10fc5fae0",
       "max": 1400,
       "style": "IPY_MODEL_dd690a13be0547a4b786ab14b42f37ee",
       "value": 1400
      }
     },
     "447f55f499d845869fd6e10cb8009531": {
      "model_module": "@jupyter-widgets/controls",
      "model_module_version": "1.5.0",
      "model_name": "DescriptionStyleModel",
      "state": {
       "description_width": ""
      }
     },
     "452d4aea52164f669fc16415df7f262c": {
      "model_module": "@jupyter-widgets/controls",
      "model_module_version": "1.5.0",
      "model_name": "FloatProgressModel",
      "state": {
       "bar_style": "success",
       "layout": "IPY_MODEL_3f4cd52e58d0428d9d55bdc5df1844a0",
       "max": 1500,
       "style": "IPY_MODEL_5b9b81de800e4fbf99f6197d0219a458",
       "value": 1500
      }
     },
     "462633d5d129435794e5acd89c470a3a": {
      "model_module": "@jupyter-widgets/base",
      "model_module_version": "1.2.0",
      "model_name": "LayoutModel",
      "state": {}
     },
     "467712a9fffa44e0923422cddf1ae14f": {
      "model_module": "@jupyter-widgets/controls",
      "model_module_version": "1.5.0",
      "model_name": "DescriptionStyleModel",
      "state": {
       "description_width": ""
      }
     },
     "4aa089f9071d4afc91f9d4753090be4a": {
      "model_module": "@jupyter-widgets/base",
      "model_module_version": "1.2.0",
      "model_name": "LayoutModel",
      "state": {}
     },
     "4b6f73ef077242e1a9fa4f7a2eca0118": {
      "model_module": "@jupyter-widgets/base",
      "model_module_version": "1.2.0",
      "model_name": "LayoutModel",
      "state": {}
     },
     "4b86d6ea78bf40c59f29445a7ce15915": {
      "model_module": "@jupyter-widgets/controls",
      "model_module_version": "1.5.0",
      "model_name": "FloatProgressModel",
      "state": {
       "bar_style": "success",
       "layout": "IPY_MODEL_3136f8cc506b416099385275184de940",
       "max": 1400,
       "style": "IPY_MODEL_bfecd2c2b8ec4dafbfd5222fc2efaecd",
       "value": 1400
      }
     },
     "4c5c92c4d4094df09eaa567e37b3b3dc": {
      "model_module": "@jupyter-widgets/base",
      "model_module_version": "1.2.0",
      "model_name": "LayoutModel",
      "state": {}
     },
     "4caae0c45ce343eea4944334c01051f5": {
      "model_module": "@jupyter-widgets/controls",
      "model_module_version": "1.5.0",
      "model_name": "DescriptionStyleModel",
      "state": {
       "description_width": ""
      }
     },
     "4cc20340ff5a4ee48f75be965d53d43d": {
      "model_module": "@jupyter-widgets/base",
      "model_module_version": "1.2.0",
      "model_name": "LayoutModel",
      "state": {}
     },
     "4fa9bdb308664511a3caea127607f093": {
      "model_module": "@jupyter-widgets/controls",
      "model_module_version": "1.5.0",
      "model_name": "HTMLModel",
      "state": {
       "layout": "IPY_MODEL_b57aede248774e54bcde3f1a590a402c",
       "style": "IPY_MODEL_447f55f499d845869fd6e10cb8009531",
       "value": "Backtest : 100%"
      }
     },
     "50084118b3bd481faeb3f93d3fe9dea9": {
      "model_module": "@jupyter-widgets/controls",
      "model_module_version": "1.5.0",
      "model_name": "HTMLModel",
      "state": {
       "layout": "IPY_MODEL_462633d5d129435794e5acd89c470a3a",
       "style": "IPY_MODEL_36dbf72768f54f559d3a713cdc58debe",
       "value": " 100/100 [06:27&lt;00:00, 3.88s/ signals]"
      }
     },
     "500bbcf5cf7f4c238be328b943ca3c53": {
      "model_module": "@jupyter-widgets/controls",
      "model_module_version": "1.5.0",
      "model_name": "HTMLModel",
      "state": {
       "layout": "IPY_MODEL_a49257ef802a4875a38efdd2d93bc102",
       "style": "IPY_MODEL_2ccc448128c34e888f2ebd3be3b893a8",
       "value": " 1500.0Y/1500.0Y [00:34&lt;00:00, 43.9 signals/s]"
      }
     },
     "5233957ffbff4e25ac250d7d31d9e4a0": {
      "model_module": "@jupyter-widgets/base",
      "model_module_version": "1.2.0",
      "model_name": "LayoutModel",
      "state": {}
     },
     "5786d6846e1e4fc886c80a288a2de27d": {
      "model_module": "@jupyter-widgets/controls",
      "model_module_version": "1.5.0",
      "model_name": "HTMLModel",
      "state": {
       "layout": "IPY_MODEL_0bdb67ae7d9f4143ab9db1a69585561a",
       "style": "IPY_MODEL_5d8dd0bdd0f848b69ad6d05307e65811",
       "value": "Backtest : 100%"
      }
     },
     "5908b56c123347169e308fd10fc5fae0": {
      "model_module": "@jupyter-widgets/base",
      "model_module_version": "1.2.0",
      "model_name": "LayoutModel",
      "state": {}
     },
     "59b7cf47861f472584038c952faea1f4": {
      "model_module": "@jupyter-widgets/base",
      "model_module_version": "1.2.0",
      "model_name": "LayoutModel",
      "state": {}
     },
     "5a385788152c43fd94e47d5d311c16b8": {
      "model_module": "@jupyter-widgets/base",
      "model_module_version": "1.2.0",
      "model_name": "LayoutModel",
      "state": {}
     },
     "5a6725eed5ee45bd90cff1e5a832f7e3": {
      "model_module": "@jupyter-widgets/controls",
      "model_module_version": "1.5.0",
      "model_name": "ProgressStyleModel",
      "state": {
       "description_width": ""
      }
     },
     "5ac77bd9c754437daf293e2834084b57": {
      "model_module": "@jupyter-widgets/controls",
      "model_module_version": "1.5.0",
      "model_name": "HBoxModel",
      "state": {
       "children": [
        "IPY_MODEL_a036c5180783496c92422ca1ef4b73a2",
        "IPY_MODEL_ed7d7f3b080f4347b43e27f0fa81b3fe",
        "IPY_MODEL_b2ce09e82b964872a4195154b9a59dd3"
       ],
       "layout": "IPY_MODEL_a0a5605bd49641aa98b58f5222a105b5"
      }
     },
     "5b9b81de800e4fbf99f6197d0219a458": {
      "model_module": "@jupyter-widgets/controls",
      "model_module_version": "1.5.0",
      "model_name": "ProgressStyleModel",
      "state": {
       "description_width": ""
      }
     },
     "5d8dd0bdd0f848b69ad6d05307e65811": {
      "model_module": "@jupyter-widgets/controls",
      "model_module_version": "1.5.0",
      "model_name": "DescriptionStyleModel",
      "state": {
       "description_width": ""
      }
     },
     "5ecc81088ed7448ca56ecfc00526422e": {
      "model_module": "@jupyter-widgets/controls",
      "model_module_version": "1.5.0",
      "model_name": "FloatProgressModel",
      "state": {
       "bar_style": "success",
       "layout": "IPY_MODEL_617e3b6c9ff14bbb83aa3a29cf8a0adc",
       "max": 1500,
       "style": "IPY_MODEL_888d674e087a4555a73ffbdd8120d485",
       "value": 1500
      }
     },
     "6033b63fc7c146cb99bbf796e106e2e0": {
      "model_module": "@jupyter-widgets/base",
      "model_module_version": "1.2.0",
      "model_name": "LayoutModel",
      "state": {}
     },
     "60e22333db9344a993fd2100226ad638": {
      "model_module": "@jupyter-widgets/controls",
      "model_module_version": "1.5.0",
      "model_name": "FloatProgressModel",
      "state": {
       "bar_style": "success",
       "layout": "IPY_MODEL_9c85bec3a0354a2891aef54fa82b79f5",
       "max": 1500,
       "style": "IPY_MODEL_99a20ad64f0a494dae64a22127bd02d1",
       "value": 1500
      }
     },
     "617e3b6c9ff14bbb83aa3a29cf8a0adc": {
      "model_module": "@jupyter-widgets/base",
      "model_module_version": "1.2.0",
      "model_name": "LayoutModel",
      "state": {}
     },
     "61a3187b3c094b93a954d8459f057a98": {
      "model_module": "@jupyter-widgets/base",
      "model_module_version": "1.2.0",
      "model_name": "LayoutModel",
      "state": {}
     },
     "61b336f33abd462e99310f2ed26017c5": {
      "model_module": "@jupyter-widgets/base",
      "model_module_version": "1.2.0",
      "model_name": "LayoutModel",
      "state": {}
     },
     "620361b00d7a442e8a3a1e0b9653174d": {
      "model_module": "@jupyter-widgets/controls",
      "model_module_version": "1.5.0",
      "model_name": "ProgressStyleModel",
      "state": {
       "description_width": ""
      }
     },
     "62da7fc68a474dbbac070f8e8301d669": {
      "model_module": "@jupyter-widgets/controls",
      "model_module_version": "1.5.0",
      "model_name": "HTMLModel",
      "state": {
       "layout": "IPY_MODEL_6fc2f4ee39654860a6c3e32876441369",
       "style": "IPY_MODEL_6c5aaa70a84e4bf593af6789d400f12f",
       "value": " 1400.0Y/1400.0Y [10:51&lt;00:00, 2.15 signals/s]"
      }
     },
     "632966f25e014ae99a6f103a1526867d": {
      "model_module": "@jupyter-widgets/base",
      "model_module_version": "1.2.0",
      "model_name": "LayoutModel",
      "state": {}
     },
     "660b6990c6dc4db19d1b9a7227ca67d8": {
      "model_module": "@jupyter-widgets/base",
      "model_module_version": "1.2.0",
      "model_name": "LayoutModel",
      "state": {}
     },
     "6a71c9ae6dfc44eaa2f56d8856e04acf": {
      "model_module": "@jupyter-widgets/controls",
      "model_module_version": "1.5.0",
      "model_name": "HBoxModel",
      "state": {
       "children": [
        "IPY_MODEL_0581ac9e0a6941bd8b14b969745cd710",
        "IPY_MODEL_60e22333db9344a993fd2100226ad638",
        "IPY_MODEL_8d7a2fed1cbd40cba65604331fb5a1ce"
       ],
       "layout": "IPY_MODEL_89b1c1de08344efb80cc54c33a4474bb"
      }
     },
     "6bf9b900b7704a6f950cc493f1213043": {
      "model_module": "@jupyter-widgets/controls",
      "model_module_version": "1.5.0",
      "model_name": "HTMLModel",
      "state": {
       "layout": "IPY_MODEL_4c5c92c4d4094df09eaa567e37b3b3dc",
       "style": "IPY_MODEL_4caae0c45ce343eea4944334c01051f5",
       "value": " 1400.0Y/1400.0Y [01:31&lt;00:00, 15.3 signals/s]"
      }
     },
     "6c5aaa70a84e4bf593af6789d400f12f": {
      "model_module": "@jupyter-widgets/controls",
      "model_module_version": "1.5.0",
      "model_name": "DescriptionStyleModel",
      "state": {
       "description_width": ""
      }
     },
     "6c9222edecb44eb5ad98b4231b5a16e6": {
      "model_module": "@jupyter-widgets/base",
      "model_module_version": "1.2.0",
      "model_name": "LayoutModel",
      "state": {}
     },
     "6cc5042a09fe487d986cad99d4d30c41": {
      "model_module": "@jupyter-widgets/controls",
      "model_module_version": "1.5.0",
      "model_name": "ProgressStyleModel",
      "state": {
       "description_width": ""
      }
     },
     "6dc87c6dc42246a4a90dc1f18a513217": {
      "model_module": "@jupyter-widgets/controls",
      "model_module_version": "1.5.0",
      "model_name": "HTMLModel",
      "state": {
       "layout": "IPY_MODEL_ffcabd1ff525412c985ea920eb7e165e",
       "style": "IPY_MODEL_e0f9fdbf0f75400ba126ced54fca7fb3",
       "value": "Backtest : 100%"
      }
     },
     "6dd67e19ada7403a8f2a2fbec7599671": {
      "model_module": "@jupyter-widgets/controls",
      "model_module_version": "1.5.0",
      "model_name": "HTMLModel",
      "state": {
       "layout": "IPY_MODEL_2b77b47703a04106b3d775c31150d819",
       "style": "IPY_MODEL_b8ec141fa38349d4900902c672788b1d",
       "value": " 1400.0Y/1400.0Y [00:30&lt;00:00, 45.7 signals/s]"
      }
     },
     "6e17b9fa9fd44f47860e57f9c144be59": {
      "model_module": "@jupyter-widgets/controls",
      "model_module_version": "1.5.0",
      "model_name": "FloatProgressModel",
      "state": {
       "bar_style": "success",
       "layout": "IPY_MODEL_2289de935e3c4a5d9f94c75673251df3",
       "style": "IPY_MODEL_816975a112154b78ba5e9cdcd1ba9322",
       "value": 100
      }
     },
     "6f2490a189cd467d84112c8a9f54731b": {
      "model_module": "@jupyter-widgets/base",
      "model_module_version": "1.2.0",
      "model_name": "LayoutModel",
      "state": {}
     },
     "6fc2f4ee39654860a6c3e32876441369": {
      "model_module": "@jupyter-widgets/base",
      "model_module_version": "1.2.0",
      "model_name": "LayoutModel",
      "state": {}
     },
     "729e5a50d36c4f21a7e0e6e795cbe57d": {
      "model_module": "@jupyter-widgets/controls",
      "model_module_version": "1.5.0",
      "model_name": "DescriptionStyleModel",
      "state": {
       "description_width": ""
      }
     },
     "73657027fe3d4916bd3e53af91444d56": {
      "model_module": "@jupyter-widgets/controls",
      "model_module_version": "1.5.0",
      "model_name": "ProgressStyleModel",
      "state": {
       "description_width": ""
      }
     },
     "73a39f0c49534d1fb73896efc7e3a946": {
      "model_module": "@jupyter-widgets/controls",
      "model_module_version": "1.5.0",
      "model_name": "HBoxModel",
      "state": {
       "children": [
        "IPY_MODEL_8ef337dfb4e64175965262b852598808",
        "IPY_MODEL_abe95c1eeaeb4abca21f15495904cdef",
        "IPY_MODEL_232b22c61ba84ec5b8683726f3b80f96"
       ],
       "layout": "IPY_MODEL_0b29911c11364d77b646bb79f8872679"
      }
     },
     "74ee5d11352b4aebb334a6c7cceaf34c": {
      "model_module": "@jupyter-widgets/base",
      "model_module_version": "1.2.0",
      "model_name": "LayoutModel",
      "state": {}
     },
     "76f24ea3455a4ddd915598b5d0184a09": {
      "model_module": "@jupyter-widgets/controls",
      "model_module_version": "1.5.0",
      "model_name": "FloatProgressModel",
      "state": {
       "bar_style": "success",
       "layout": "IPY_MODEL_866aec0a595d4937ac61912cc7e8be6a",
       "max": 1500,
       "style": "IPY_MODEL_16aaa395b6bf4818ace0b577754c094d",
       "value": 1500
      }
     },
     "79a912edc7534e94adf1672223a50252": {
      "model_module": "@jupyter-widgets/base",
      "model_module_version": "1.2.0",
      "model_name": "LayoutModel",
      "state": {}
     },
     "7a6ee7480c4a4f8da102cb6ae4236ef4": {
      "model_module": "@jupyter-widgets/base",
      "model_module_version": "1.2.0",
      "model_name": "LayoutModel",
      "state": {}
     },
     "7c5e220c39374b6aa2d46b6860cd96f1": {
      "model_module": "@jupyter-widgets/base",
      "model_module_version": "1.2.0",
      "model_name": "LayoutModel",
      "state": {}
     },
     "7d1140f2fa3043729c2a43a55abbdb3b": {
      "model_module": "@jupyter-widgets/controls",
      "model_module_version": "1.5.0",
      "model_name": "HBoxModel",
      "state": {
       "children": [
        "IPY_MODEL_2067fed095684e5c8257cd2a8e1d35c5",
        "IPY_MODEL_431d80c9f1834e7c82ef824a14960fe6",
        "IPY_MODEL_95f646001532417781f20f04ba8eced7"
       ],
       "layout": "IPY_MODEL_88826319eb594bf49bade298553e65c1"
      }
     },
     "7d900e0a6e474c5881a911eaedecdd0c": {
      "model_module": "@jupyter-widgets/base",
      "model_module_version": "1.2.0",
      "model_name": "LayoutModel",
      "state": {}
     },
     "7dbf28e9c214461a95f42c2e9be9d3be": {
      "model_module": "@jupyter-widgets/base",
      "model_module_version": "1.2.0",
      "model_name": "LayoutModel",
      "state": {}
     },
     "7df8d1961072480caeac626f7ddc4187": {
      "model_module": "@jupyter-widgets/controls",
      "model_module_version": "1.5.0",
      "model_name": "DescriptionStyleModel",
      "state": {
       "description_width": ""
      }
     },
     "803ee7d69b1a4b3f8e37e8771ebec9ec": {
      "model_module": "@jupyter-widgets/controls",
      "model_module_version": "1.5.0",
      "model_name": "HBoxModel",
      "state": {
       "children": [
        "IPY_MODEL_a844838efe074fc68fa1aa63fc5725cb",
        "IPY_MODEL_4399648375db42c7b6d46ecee6632199",
        "IPY_MODEL_6bf9b900b7704a6f950cc493f1213043"
       ],
       "layout": "IPY_MODEL_1ae2b40adac548d1bdfa9126b566239b"
      }
     },
     "816975a112154b78ba5e9cdcd1ba9322": {
      "model_module": "@jupyter-widgets/controls",
      "model_module_version": "1.5.0",
      "model_name": "ProgressStyleModel",
      "state": {
       "description_width": ""
      }
     },
     "81e2ad0348414e52a78da5dc92fe07fd": {
      "model_module": "@jupyter-widgets/controls",
      "model_module_version": "1.5.0",
      "model_name": "ProgressStyleModel",
      "state": {
       "description_width": ""
      }
     },
     "83d7cf605ba14e2b979a7d770cf2b99f": {
      "model_module": "@jupyter-widgets/controls",
      "model_module_version": "1.5.0",
      "model_name": "FloatProgressModel",
      "state": {
       "bar_style": "success",
       "layout": "IPY_MODEL_79a912edc7534e94adf1672223a50252",
       "style": "IPY_MODEL_6cc5042a09fe487d986cad99d4d30c41",
       "value": 100
      }
     },
     "83fd11d8b35d443f849a8bbbf27446e3": {
      "model_module": "@jupyter-widgets/controls",
      "model_module_version": "1.5.0",
      "model_name": "FloatProgressModel",
      "state": {
       "bar_style": "success",
       "layout": "IPY_MODEL_28ce5bc92f5b47d08ab2fd43dc1a97e7",
       "max": 1500,
       "style": "IPY_MODEL_f290c61350b94995a1a2c52b91061f21",
       "value": 1500
      }
     },
     "842acbbad44c4d54bbbea5b2eea56ca6": {
      "model_module": "@jupyter-widgets/base",
      "model_module_version": "1.2.0",
      "model_name": "LayoutModel",
      "state": {}
     },
     "84a6e91c3526446db78ad395ad81aeba": {
      "model_module": "@jupyter-widgets/controls",
      "model_module_version": "1.5.0",
      "model_name": "DescriptionStyleModel",
      "state": {
       "description_width": ""
      }
     },
     "84ef9a9625b440da90e02fe6744219a8": {
      "model_module": "@jupyter-widgets/controls",
      "model_module_version": "1.5.0",
      "model_name": "HTMLModel",
      "state": {
       "layout": "IPY_MODEL_ae09f87591d64694b233bd43785fc03c",
       "style": "IPY_MODEL_aff9338a28574a6192392b06c52b1d08",
       "value": "Backtest : 100%"
      }
     },
     "85be57e4e6bc4b19ba79d23299914091": {
      "model_module": "@jupyter-widgets/base",
      "model_module_version": "1.2.0",
      "model_name": "LayoutModel",
      "state": {}
     },
     "85dcee57688e492287ca15e2ea5daa8c": {
      "model_module": "@jupyter-widgets/base",
      "model_module_version": "1.2.0",
      "model_name": "LayoutModel",
      "state": {}
     },
     "864855b656b04302be7cf39c7e40689d": {
      "model_module": "@jupyter-widgets/base",
      "model_module_version": "1.2.0",
      "model_name": "LayoutModel",
      "state": {}
     },
     "866aec0a595d4937ac61912cc7e8be6a": {
      "model_module": "@jupyter-widgets/base",
      "model_module_version": "1.2.0",
      "model_name": "LayoutModel",
      "state": {}
     },
     "886fbc27e3ec4cc88c80d48e8fae7215": {
      "model_module": "@jupyter-widgets/controls",
      "model_module_version": "1.5.0",
      "model_name": "HTMLModel",
      "state": {
       "layout": "IPY_MODEL_c7cf39fb4c454c49bc44721d303e46d8",
       "style": "IPY_MODEL_e78325bcca0d4e3a8314b9bc1fa20158",
       "value": " 1500.0Y/1500.0Y [01:19&lt;00:00, 19.0 signals/s]"
      }
     },
     "88826319eb594bf49bade298553e65c1": {
      "model_module": "@jupyter-widgets/base",
      "model_module_version": "1.2.0",
      "model_name": "LayoutModel",
      "state": {}
     },
     "888d674e087a4555a73ffbdd8120d485": {
      "model_module": "@jupyter-widgets/controls",
      "model_module_version": "1.5.0",
      "model_name": "ProgressStyleModel",
      "state": {
       "description_width": ""
      }
     },
     "89a075ff32594e94a8e5d6504def8fac": {
      "model_module": "@jupyter-widgets/base",
      "model_module_version": "1.2.0",
      "model_name": "LayoutModel",
      "state": {}
     },
     "89b1c1de08344efb80cc54c33a4474bb": {
      "model_module": "@jupyter-widgets/base",
      "model_module_version": "1.2.0",
      "model_name": "LayoutModel",
      "state": {}
     },
     "8d7a2fed1cbd40cba65604331fb5a1ce": {
      "model_module": "@jupyter-widgets/controls",
      "model_module_version": "1.5.0",
      "model_name": "HTMLModel",
      "state": {
       "layout": "IPY_MODEL_7d900e0a6e474c5881a911eaedecdd0c",
       "style": "IPY_MODEL_c59471b377824aa99718e96a26897d56",
       "value": " 1500.0Y/1500.0Y [08:39&lt;00:00, 2.89 signals/s]"
      }
     },
     "8ef337dfb4e64175965262b852598808": {
      "model_module": "@jupyter-widgets/controls",
      "model_module_version": "1.5.0",
      "model_name": "HTMLModel",
      "state": {
       "layout": "IPY_MODEL_b56ef56fb85d4417a644aa37fc8b1b29",
       "style": "IPY_MODEL_b16b753bd1f045b78242479337d35df0",
       "value": "Backtest : 100%"
      }
     },
     "8ff24652be3e467c82c058574e03d3dc": {
      "model_module": "@jupyter-widgets/controls",
      "model_module_version": "1.5.0",
      "model_name": "FloatProgressModel",
      "state": {
       "bar_style": "success",
       "layout": "IPY_MODEL_4b6f73ef077242e1a9fa4f7a2eca0118",
       "max": 1400,
       "style": "IPY_MODEL_a49aa17924824b4b9e7a2b0945a72dc7",
       "value": 1400
      }
     },
     "91399b13aa074afa9c0da63098c30cde": {
      "model_module": "@jupyter-widgets/controls",
      "model_module_version": "1.5.0",
      "model_name": "HBoxModel",
      "state": {
       "children": [
        "IPY_MODEL_cf99ba1b494f4dbf97c92540a1475095",
        "IPY_MODEL_a97154c61da74045bc7e2932c8d36fe8",
        "IPY_MODEL_4139f5b72568420f8c30c6447e711e26"
       ],
       "layout": "IPY_MODEL_1f13ce4612114464bc47ab60b16a26d6"
      }
     },
     "924b48c1922049ae800f0d54bb43fa3b": {
      "model_module": "@jupyter-widgets/controls",
      "model_module_version": "1.5.0",
      "model_name": "HTMLModel",
      "state": {
       "layout": "IPY_MODEL_a8b170647b584f3b809b495a524a4400",
       "style": "IPY_MODEL_e5d21633fee941bdad71fad4d8144cfd",
       "value": "Backtest : 100%"
      }
     },
     "92c171f5c1a448c18f8dffeb43b7c012": {
      "model_module": "@jupyter-widgets/controls",
      "model_module_version": "1.5.0",
      "model_name": "HBoxModel",
      "state": {
       "children": [
        "IPY_MODEL_f99d96006ed24b5f81177fea6189eb6e",
        "IPY_MODEL_83fd11d8b35d443f849a8bbbf27446e3",
        "IPY_MODEL_3e828258c9a544a7b78a52b8c5c0c54e"
       ],
       "layout": "IPY_MODEL_0a4f81049a814277bcf4ec84e0dc3d11"
      }
     },
     "92d179c7ee224761b89b1f4abda4ebb0": {
      "model_module": "@jupyter-widgets/controls",
      "model_module_version": "1.5.0",
      "model_name": "FloatProgressModel",
      "state": {
       "bar_style": "success",
       "layout": "IPY_MODEL_660b6990c6dc4db19d1b9a7227ca67d8",
       "max": 1400,
       "style": "IPY_MODEL_120fedb599b94176b91bb64052f86e01",
       "value": 1400
      }
     },
     "95f646001532417781f20f04ba8eced7": {
      "model_module": "@jupyter-widgets/controls",
      "model_module_version": "1.5.0",
      "model_name": "HTMLModel",
      "state": {
       "layout": "IPY_MODEL_89a075ff32594e94a8e5d6504def8fac",
       "style": "IPY_MODEL_7df8d1961072480caeac626f7ddc4187",
       "value": " 100/100 [01:41&lt;00:00, 1.01s/ signals]"
      }
     },
     "99a20ad64f0a494dae64a22127bd02d1": {
      "model_module": "@jupyter-widgets/controls",
      "model_module_version": "1.5.0",
      "model_name": "ProgressStyleModel",
      "state": {
       "description_width": ""
      }
     },
     "9a331776d4944589b3da5d2c5f46054e": {
      "model_module": "@jupyter-widgets/controls",
      "model_module_version": "1.5.0",
      "model_name": "DescriptionStyleModel",
      "state": {
       "description_width": ""
      }
     },
     "9a7d4870deae4608906ea5971913788a": {
      "model_module": "@jupyter-widgets/base",
      "model_module_version": "1.2.0",
      "model_name": "LayoutModel",
      "state": {}
     },
     "9b080b9e36934f6ba2174fbb0143c4fa": {
      "model_module": "@jupyter-widgets/controls",
      "model_module_version": "1.5.0",
      "model_name": "HBoxModel",
      "state": {
       "children": [
        "IPY_MODEL_924b48c1922049ae800f0d54bb43fa3b",
        "IPY_MODEL_92d179c7ee224761b89b1f4abda4ebb0",
        "IPY_MODEL_6dd67e19ada7403a8f2a2fbec7599671"
       ],
       "layout": "IPY_MODEL_40984342cbe94b419627733c9aaa3dbf"
      }
     },
     "9c85bec3a0354a2891aef54fa82b79f5": {
      "model_module": "@jupyter-widgets/base",
      "model_module_version": "1.2.0",
      "model_name": "LayoutModel",
      "state": {}
     },
     "9ce7bc391e5b47c1a1205f2f9e72149d": {
      "model_module": "@jupyter-widgets/base",
      "model_module_version": "1.2.0",
      "model_name": "LayoutModel",
      "state": {}
     },
     "9d342df895d145edad63041e053af698": {
      "model_module": "@jupyter-widgets/controls",
      "model_module_version": "1.5.0",
      "model_name": "DescriptionStyleModel",
      "state": {
       "description_width": ""
      }
     },
     "9d4a6b4d7d814b83a3c92d83e457630e": {
      "model_module": "@jupyter-widgets/base",
      "model_module_version": "1.2.0",
      "model_name": "LayoutModel",
      "state": {}
     },
     "9e77991db3ec494ea2465db0ca3bb989": {
      "model_module": "@jupyter-widgets/base",
      "model_module_version": "1.2.0",
      "model_name": "LayoutModel",
      "state": {}
     },
     "9ef4a9309b084d869b9bc8213b757fa3": {
      "model_module": "@jupyter-widgets/controls",
      "model_module_version": "1.5.0",
      "model_name": "FloatProgressModel",
      "state": {
       "bar_style": "success",
       "layout": "IPY_MODEL_01bb3170c7404359a322e194b378ca03",
       "max": 1400,
       "style": "IPY_MODEL_81e2ad0348414e52a78da5dc92fe07fd",
       "value": 1400
      }
     },
     "a036c5180783496c92422ca1ef4b73a2": {
      "model_module": "@jupyter-widgets/controls",
      "model_module_version": "1.5.0",
      "model_name": "HTMLModel",
      "state": {
       "layout": "IPY_MODEL_9d4a6b4d7d814b83a3c92d83e457630e",
       "style": "IPY_MODEL_84a6e91c3526446db78ad395ad81aeba",
       "value": "Backtest : 100%"
      }
     },
     "a0a5605bd49641aa98b58f5222a105b5": {
      "model_module": "@jupyter-widgets/base",
      "model_module_version": "1.2.0",
      "model_name": "LayoutModel",
      "state": {}
     },
     "a30206f5b70e4878be5383a5d195094f": {
      "model_module": "@jupyter-widgets/base",
      "model_module_version": "1.2.0",
      "model_name": "LayoutModel",
      "state": {}
     },
     "a49257ef802a4875a38efdd2d93bc102": {
      "model_module": "@jupyter-widgets/base",
      "model_module_version": "1.2.0",
      "model_name": "LayoutModel",
      "state": {}
     },
     "a49aa17924824b4b9e7a2b0945a72dc7": {
      "model_module": "@jupyter-widgets/controls",
      "model_module_version": "1.5.0",
      "model_name": "ProgressStyleModel",
      "state": {
       "description_width": ""
      }
     },
     "a72bd87ea69f44d3bffa3afb185cf735": {
      "model_module": "@jupyter-widgets/controls",
      "model_module_version": "1.5.0",
      "model_name": "HBoxModel",
      "state": {
       "children": [
        "IPY_MODEL_1ad610baaf6340d095dcddfa935ef5fc",
        "IPY_MODEL_452d4aea52164f669fc16415df7f262c",
        "IPY_MODEL_b3dd52bcb818472487683b421d3e5d0f"
       ],
       "layout": "IPY_MODEL_85be57e4e6bc4b19ba79d23299914091"
      }
     },
     "a844838efe074fc68fa1aa63fc5725cb": {
      "model_module": "@jupyter-widgets/controls",
      "model_module_version": "1.5.0",
      "model_name": "HTMLModel",
      "state": {
       "layout": "IPY_MODEL_a978f6057c3849ee866f0764e5dd5abe",
       "style": "IPY_MODEL_281d93cae8204f8b87f74981727238c1",
       "value": "Backtest : 100%"
      }
     },
     "a8b170647b584f3b809b495a524a4400": {
      "model_module": "@jupyter-widgets/base",
      "model_module_version": "1.2.0",
      "model_name": "LayoutModel",
      "state": {}
     },
     "a97154c61da74045bc7e2932c8d36fe8": {
      "model_module": "@jupyter-widgets/controls",
      "model_module_version": "1.5.0",
      "model_name": "FloatProgressModel",
      "state": {
       "bar_style": "success",
       "layout": "IPY_MODEL_9ce7bc391e5b47c1a1205f2f9e72149d",
       "max": 1500,
       "style": "IPY_MODEL_e44acf5456a84e0e9c0be843e0d87ba4",
       "value": 1500
      }
     },
     "a978f6057c3849ee866f0764e5dd5abe": {
      "model_module": "@jupyter-widgets/base",
      "model_module_version": "1.2.0",
      "model_name": "LayoutModel",
      "state": {}
     },
     "abd2d59d4f1c4328a0cae85fc6589fdf": {
      "model_module": "@jupyter-widgets/controls",
      "model_module_version": "1.5.0",
      "model_name": "HTMLModel",
      "state": {
       "layout": "IPY_MODEL_3242311f9fe44a01a80fa55999d8a05a",
       "style": "IPY_MODEL_bd4d7263c19a45ada2d125478db075ff",
       "value": " 1500.0Y/1500.0Y [00:17&lt;00:00, 86.8 signals/s]"
      }
     },
     "abe95c1eeaeb4abca21f15495904cdef": {
      "model_module": "@jupyter-widgets/controls",
      "model_module_version": "1.5.0",
      "model_name": "FloatProgressModel",
      "state": {
       "bar_style": "success",
       "layout": "IPY_MODEL_9e77991db3ec494ea2465db0ca3bb989",
       "max": 1500,
       "style": "IPY_MODEL_620361b00d7a442e8a3a1e0b9653174d",
       "value": 1500
      }
     },
     "ae09f87591d64694b233bd43785fc03c": {
      "model_module": "@jupyter-widgets/base",
      "model_module_version": "1.2.0",
      "model_name": "LayoutModel",
      "state": {}
     },
     "aff9338a28574a6192392b06c52b1d08": {
      "model_module": "@jupyter-widgets/controls",
      "model_module_version": "1.5.0",
      "model_name": "DescriptionStyleModel",
      "state": {
       "description_width": ""
      }
     },
     "b16b753bd1f045b78242479337d35df0": {
      "model_module": "@jupyter-widgets/controls",
      "model_module_version": "1.5.0",
      "model_name": "DescriptionStyleModel",
      "state": {
       "description_width": ""
      }
     },
     "b2ce09e82b964872a4195154b9a59dd3": {
      "model_module": "@jupyter-widgets/controls",
      "model_module_version": "1.5.0",
      "model_name": "HTMLModel",
      "state": {
       "layout": "IPY_MODEL_243281fc6e424aaf8b4ec08af2c98ca1",
       "style": "IPY_MODEL_9a331776d4944589b3da5d2c5f46054e",
       "value": " 1400.0Y/1400.0Y [00:27&lt;00:00, 50.7 signals/s]"
      }
     },
     "b35264aeddb042338910a370ce89f0b4": {
      "model_module": "@jupyter-widgets/base",
      "model_module_version": "1.2.0",
      "model_name": "LayoutModel",
      "state": {}
     },
     "b3dd52bcb818472487683b421d3e5d0f": {
      "model_module": "@jupyter-widgets/controls",
      "model_module_version": "1.5.0",
      "model_name": "HTMLModel",
      "state": {
       "layout": "IPY_MODEL_6f2490a189cd467d84112c8a9f54731b",
       "style": "IPY_MODEL_0ab39d7d5a05403e9798a37cf7368ca2",
       "value": " 1500.0Y/1500.0Y [00:19&lt;00:00, 75.5 signals/s]"
      }
     },
     "b56ef56fb85d4417a644aa37fc8b1b29": {
      "model_module": "@jupyter-widgets/base",
      "model_module_version": "1.2.0",
      "model_name": "LayoutModel",
      "state": {}
     },
     "b57aede248774e54bcde3f1a590a402c": {
      "model_module": "@jupyter-widgets/base",
      "model_module_version": "1.2.0",
      "model_name": "LayoutModel",
      "state": {}
     },
     "b8ec141fa38349d4900902c672788b1d": {
      "model_module": "@jupyter-widgets/controls",
      "model_module_version": "1.5.0",
      "model_name": "DescriptionStyleModel",
      "state": {
       "description_width": ""
      }
     },
     "b9883fb3a01b44cf8516df8030ff4148": {
      "model_module": "@jupyter-widgets/controls",
      "model_module_version": "1.5.0",
      "model_name": "DescriptionStyleModel",
      "state": {
       "description_width": ""
      }
     },
     "bd4d7263c19a45ada2d125478db075ff": {
      "model_module": "@jupyter-widgets/controls",
      "model_module_version": "1.5.0",
      "model_name": "DescriptionStyleModel",
      "state": {
       "description_width": ""
      }
     },
     "bfecd2c2b8ec4dafbfd5222fc2efaecd": {
      "model_module": "@jupyter-widgets/controls",
      "model_module_version": "1.5.0",
      "model_name": "ProgressStyleModel",
      "state": {
       "description_width": ""
      }
     },
     "c1637dcddd414711997c9cab2d394346": {
      "model_module": "@jupyter-widgets/controls",
      "model_module_version": "1.5.0",
      "model_name": "DescriptionStyleModel",
      "state": {
       "description_width": ""
      }
     },
     "c4b101b4719d48a88b8ec6995124a9bb": {
      "model_module": "@jupyter-widgets/base",
      "model_module_version": "1.2.0",
      "model_name": "LayoutModel",
      "state": {}
     },
     "c59471b377824aa99718e96a26897d56": {
      "model_module": "@jupyter-widgets/controls",
      "model_module_version": "1.5.0",
      "model_name": "DescriptionStyleModel",
      "state": {
       "description_width": ""
      }
     },
     "c7cf39fb4c454c49bc44721d303e46d8": {
      "model_module": "@jupyter-widgets/base",
      "model_module_version": "1.2.0",
      "model_name": "LayoutModel",
      "state": {}
     },
     "c8bbb6241e0f4640a19925ffcc2fec90": {
      "model_module": "@jupyter-widgets/controls",
      "model_module_version": "1.5.0",
      "model_name": "FloatProgressModel",
      "state": {
       "bar_style": "success",
       "layout": "IPY_MODEL_7a6ee7480c4a4f8da102cb6ae4236ef4",
       "max": 1400,
       "style": "IPY_MODEL_def48131a98f45089246b5cf044b229c",
       "value": 1400
      }
     },
     "ca5451346dd94bc7b603ba19ef40e675": {
      "model_module": "@jupyter-widgets/controls",
      "model_module_version": "1.5.0",
      "model_name": "DescriptionStyleModel",
      "state": {
       "description_width": ""
      }
     },
     "ca861720ef8d410f8fb1ab254293b5f1": {
      "model_module": "@jupyter-widgets/base",
      "model_module_version": "1.2.0",
      "model_name": "LayoutModel",
      "state": {}
     },
     "cde68167b917439582014ac5a8d2bd0f": {
      "model_module": "@jupyter-widgets/base",
      "model_module_version": "1.2.0",
      "model_name": "LayoutModel",
      "state": {}
     },
     "ce5bff94c19b447cad18f05d79259c5c": {
      "model_module": "@jupyter-widgets/controls",
      "model_module_version": "1.5.0",
      "model_name": "DescriptionStyleModel",
      "state": {
       "description_width": ""
      }
     },
     "ce5c9edfd8174c84ae86daa27e37d02b": {
      "model_module": "@jupyter-widgets/controls",
      "model_module_version": "1.5.0",
      "model_name": "DescriptionStyleModel",
      "state": {
       "description_width": ""
      }
     },
     "cf99ba1b494f4dbf97c92540a1475095": {
      "model_module": "@jupyter-widgets/controls",
      "model_module_version": "1.5.0",
      "model_name": "HTMLModel",
      "state": {
       "layout": "IPY_MODEL_c4b101b4719d48a88b8ec6995124a9bb",
       "style": "IPY_MODEL_114cd2ea2824408299006e82a9ae51f0",
       "value": "Backtest : 100%"
      }
     },
     "d129a82f8dc845c0be830b0e31feb213": {
      "model_module": "@jupyter-widgets/controls",
      "model_module_version": "1.5.0",
      "model_name": "HTMLModel",
      "state": {
       "layout": "IPY_MODEL_4aa089f9071d4afc91f9d4753090be4a",
       "style": "IPY_MODEL_d960d0945bf547549d8d666d0bddb2d1",
       "value": "Backtest : 100%"
      }
     },
     "d3847a0a084c4d87abd1ffe9388cc578": {
      "model_module": "@jupyter-widgets/controls",
      "model_module_version": "1.5.0",
      "model_name": "DescriptionStyleModel",
      "state": {
       "description_width": ""
      }
     },
     "d801d6d286fc477aa8bb5b1f7ce7d347": {
      "model_module": "@jupyter-widgets/base",
      "model_module_version": "1.2.0",
      "model_name": "LayoutModel",
      "state": {}
     },
     "d960d0945bf547549d8d666d0bddb2d1": {
      "model_module": "@jupyter-widgets/controls",
      "model_module_version": "1.5.0",
      "model_name": "DescriptionStyleModel",
      "state": {
       "description_width": ""
      }
     },
     "d9bb2446ce08479c8e4f86e06d642da5": {
      "model_module": "@jupyter-widgets/controls",
      "model_module_version": "1.5.0",
      "model_name": "ProgressStyleModel",
      "state": {
       "description_width": ""
      }
     },
     "da51c51d94924c85abf0f37baf69354b": {
      "model_module": "@jupyter-widgets/controls",
      "model_module_version": "1.5.0",
      "model_name": "HTMLModel",
      "state": {
       "layout": "IPY_MODEL_cde68167b917439582014ac5a8d2bd0f",
       "style": "IPY_MODEL_f8ccf0ada3824ee39a986e935b227c18",
       "value": "Backtest : 100%"
      }
     },
     "dc51fc586fc043cfb991003e2c9cd7e2": {
      "model_module": "@jupyter-widgets/controls",
      "model_module_version": "1.5.0",
      "model_name": "FloatProgressModel",
      "state": {
       "bar_style": "success",
       "layout": "IPY_MODEL_33058c794364437087bc58cb2066d53c",
       "max": 1500,
       "style": "IPY_MODEL_5a6725eed5ee45bd90cff1e5a832f7e3",
       "value": 1500
      }
     },
     "dd1e76552ec94b0a82f322ce709b3c91": {
      "model_module": "@jupyter-widgets/controls",
      "model_module_version": "1.5.0",
      "model_name": "DescriptionStyleModel",
      "state": {
       "description_width": ""
      }
     },
     "dd690a13be0547a4b786ab14b42f37ee": {
      "model_module": "@jupyter-widgets/controls",
      "model_module_version": "1.5.0",
      "model_name": "ProgressStyleModel",
      "state": {
       "description_width": ""
      }
     },
     "def48131a98f45089246b5cf044b229c": {
      "model_module": "@jupyter-widgets/controls",
      "model_module_version": "1.5.0",
      "model_name": "ProgressStyleModel",
      "state": {
       "description_width": ""
      }
     },
     "e0f9fdbf0f75400ba126ced54fca7fb3": {
      "model_module": "@jupyter-widgets/controls",
      "model_module_version": "1.5.0",
      "model_name": "DescriptionStyleModel",
      "state": {
       "description_width": ""
      }
     },
     "e1750588bc7946fc9db2ecb036261340": {
      "model_module": "@jupyter-widgets/controls",
      "model_module_version": "1.5.0",
      "model_name": "HBoxModel",
      "state": {
       "children": [
        "IPY_MODEL_2231e889db7f496da46402a429879449",
        "IPY_MODEL_83d7cf605ba14e2b979a7d770cf2b99f",
        "IPY_MODEL_2f9dec877b2c456aac7937e6a692751e"
       ],
       "layout": "IPY_MODEL_9a7d4870deae4608906ea5971913788a"
      }
     },
     "e26f80ea827744bf8cd1d8e781b3394c": {
      "model_module": "@jupyter-widgets/controls",
      "model_module_version": "1.5.0",
      "model_name": "DescriptionStyleModel",
      "state": {
       "description_width": ""
      }
     },
     "e44acf5456a84e0e9c0be843e0d87ba4": {
      "model_module": "@jupyter-widgets/controls",
      "model_module_version": "1.5.0",
      "model_name": "ProgressStyleModel",
      "state": {
       "description_width": ""
      }
     },
     "e498d1c47f33475db5d33b52174f5c88": {
      "model_module": "@jupyter-widgets/base",
      "model_module_version": "1.2.0",
      "model_name": "LayoutModel",
      "state": {}
     },
     "e5d21633fee941bdad71fad4d8144cfd": {
      "model_module": "@jupyter-widgets/controls",
      "model_module_version": "1.5.0",
      "model_name": "DescriptionStyleModel",
      "state": {
       "description_width": ""
      }
     },
     "e721a6abb7404d5e9c82a78f3987d757": {
      "model_module": "@jupyter-widgets/controls",
      "model_module_version": "1.5.0",
      "model_name": "HBoxModel",
      "state": {
       "children": [
        "IPY_MODEL_4fa9bdb308664511a3caea127607f093",
        "IPY_MODEL_4b86d6ea78bf40c59f29445a7ce15915",
        "IPY_MODEL_e7ad174b7aa64e3d8ab8b0ab0ed38db0"
       ],
       "layout": "IPY_MODEL_59b7cf47861f472584038c952faea1f4"
      }
     },
     "e76feb2e820c416cbd0fbc4aaead9635": {
      "model_module": "@jupyter-widgets/controls",
      "model_module_version": "1.5.0",
      "model_name": "FloatProgressModel",
      "state": {
       "bar_style": "success",
       "layout": "IPY_MODEL_7dbf28e9c214461a95f42c2e9be9d3be",
       "max": 1500,
       "style": "IPY_MODEL_1d3362bbe0364220952c20a9e01dd80c",
       "value": 1500
      }
     },
     "e78325bcca0d4e3a8314b9bc1fa20158": {
      "model_module": "@jupyter-widgets/controls",
      "model_module_version": "1.5.0",
      "model_name": "DescriptionStyleModel",
      "state": {
       "description_width": ""
      }
     },
     "e7ad174b7aa64e3d8ab8b0ab0ed38db0": {
      "model_module": "@jupyter-widgets/controls",
      "model_module_version": "1.5.0",
      "model_name": "HTMLModel",
      "state": {
       "layout": "IPY_MODEL_632966f25e014ae99a6f103a1526867d",
       "style": "IPY_MODEL_38c8f1e0d37249ba8bfc26d65add2ece",
       "value": " 1400.0Y/1400.0Y [00:41&lt;00:00, 33.8 signals/s]"
      }
     },
     "e7d36ee8ea8541a7814909e17b85b80d": {
      "model_module": "@jupyter-widgets/controls",
      "model_module_version": "1.5.0",
      "model_name": "HBoxModel",
      "state": {
       "children": [
        "IPY_MODEL_6dc87c6dc42246a4a90dc1f18a513217",
        "IPY_MODEL_8ff24652be3e467c82c058574e03d3dc",
        "IPY_MODEL_0ad1d4c81cdb49c4934574b863c9d7e0"
       ],
       "layout": "IPY_MODEL_74ee5d11352b4aebb334a6c7cceaf34c"
      }
     },
     "ea1eccacf9eb46ceb14c18d55b7c352a": {
      "model_module": "@jupyter-widgets/base",
      "model_module_version": "1.2.0",
      "model_name": "LayoutModel",
      "state": {}
     },
     "ed7d7f3b080f4347b43e27f0fa81b3fe": {
      "model_module": "@jupyter-widgets/controls",
      "model_module_version": "1.5.0",
      "model_name": "FloatProgressModel",
      "state": {
       "bar_style": "success",
       "layout": "IPY_MODEL_ea1eccacf9eb46ceb14c18d55b7c352a",
       "max": 1400,
       "style": "IPY_MODEL_d9bb2446ce08479c8e4f86e06d642da5",
       "value": 1400
      }
     },
     "efc72dd8f1d04c429d1695f61af6b938": {
      "model_module": "@jupyter-widgets/controls",
      "model_module_version": "1.5.0",
      "model_name": "DescriptionStyleModel",
      "state": {
       "description_width": ""
      }
     },
     "f1695c680e294f0180f66fab9ae67b5d": {
      "model_module": "@jupyter-widgets/base",
      "model_module_version": "1.2.0",
      "model_name": "LayoutModel",
      "state": {}
     },
     "f290c61350b94995a1a2c52b91061f21": {
      "model_module": "@jupyter-widgets/controls",
      "model_module_version": "1.5.0",
      "model_name": "ProgressStyleModel",
      "state": {
       "description_width": ""
      }
     },
     "f5014ae34a0e4c0a938ac052210fcbfc": {
      "model_module": "@jupyter-widgets/controls",
      "model_module_version": "1.5.0",
      "model_name": "HBoxModel",
      "state": {
       "children": [
        "IPY_MODEL_3c1c1b983ca24bcea62a1072a7db2bfd",
        "IPY_MODEL_dc51fc586fc043cfb991003e2c9cd7e2",
        "IPY_MODEL_abd2d59d4f1c4328a0cae85fc6589fdf"
       ],
       "layout": "IPY_MODEL_3d547f7494504ac38bb166cdef77bf47"
      }
     },
     "f8ccf0ada3824ee39a986e935b227c18": {
      "model_module": "@jupyter-widgets/controls",
      "model_module_version": "1.5.0",
      "model_name": "DescriptionStyleModel",
      "state": {
       "description_width": ""
      }
     },
     "f99d96006ed24b5f81177fea6189eb6e": {
      "model_module": "@jupyter-widgets/controls",
      "model_module_version": "1.5.0",
      "model_name": "HTMLModel",
      "state": {
       "layout": "IPY_MODEL_85dcee57688e492287ca15e2ea5daa8c",
       "style": "IPY_MODEL_ca5451346dd94bc7b603ba19ef40e675",
       "value": "Backtest : 100%"
      }
     },
     "ffcabd1ff525412c985ea920eb7e165e": {
      "model_module": "@jupyter-widgets/base",
      "model_module_version": "1.2.0",
      "model_name": "LayoutModel",
      "state": {}
     }
    },
    "version_major": 2,
    "version_minor": 0
   }
  }
 },
 "nbformat": 4,
 "nbformat_minor": 4
}
