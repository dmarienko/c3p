{
 "cells": [
  {
   "cell_type": "code",
   "execution_count": 1,
   "metadata": {},
   "outputs": [
    {
     "name": "stdout",
     "output_type": "stream",
     "text": [
      "Reloaded /usr/local/envs/ira_p36/lib/python3.6/site-packages/ira/experimental/c_simulator_core.pyx\n"
     ]
    },
    {
     "data": {
      "text/html": [
       "<pre style=\"white-space:pre;overflow-x:auto;line-height:normal;font-family:Menlo,'DejaVu Sans Mono',consolas,'Courier New',monospace\"><span style=\"font-weight: bold\">(</span>c<span style=\"font-weight: bold\">)</span> <span style=\"color: #008000; font-weight: bold\">2017</span>, AppliedAlpha Infrastructure for Quantitative Research and Analysis, ver. master: \n",
       "<span style=\"color: #008000; font-weight: bold\">0.1476</span>\n",
       "</pre>\n"
      ],
      "text/plain": [
       "<rich.jupyter.JupyterRenderable at 0x7f1f0440a6d8>"
      ]
     },
     "metadata": {},
     "output_type": "display_data"
    }
   ],
   "source": [
    "import ira\n",
    "%alphalab dark\n",
    "\n",
    "from c3p.models.utils import load_all_contracts_data, contracts_for, bitmex_contract_expiration"
   ]
  },
  {
   "cell_type": "code",
   "execution_count": 2,
   "metadata": {},
   "outputs": [
    {
     "data": {
      "text/plain": [
       "[XBTH18 | 2017-12-15 00:00:00+00:00 - 2018-03-30 15:00:00+00:00 EXPIRED |,\n",
       " XBTM18 | 2018-01-02 00:00:00+00:00 - 2018-06-29 15:00:00+00:00 EXPIRED |,\n",
       " XBTU18 | 2018-03-31 00:00:00+00:00 - 2018-09-28 15:00:00+00:00 EXPIRED |,\n",
       " XBTZ18 | 2018-07-02 00:00:00+00:00 - 2018-12-28 15:00:00+00:00 EXPIRED |,\n",
       " XBTH19 | 2018-09-17 00:00:00+00:00 - 2019-03-29 15:00:00+00:00 EXPIRED |,\n",
       " XBTM19 | 2018-12-17 00:00:00+00:00 - 2019-06-28 15:00:00+00:00 EXPIRED |,\n",
       " XBTU19 | 2019-03-15 00:00:00+00:00 - 2019-09-27 15:00:00+00:00 EXPIRED |,\n",
       " XBTZ19 | 2019-06-14 00:00:00+00:00 - 2019-12-27 15:00:00+00:00 EXPIRED |,\n",
       " XBTH20 | 2019-09-13 00:00:00+00:00 - 2020-03-27 15:00:00+00:00 EXPIRED |,\n",
       " XBTM20 | 2019-12-13 00:00:00+00:00 - 2020-06-26 15:00:00+00:00 EXPIRED |,\n",
       " XBTU20 | 2020-03-13 00:00:00+00:00 - 2020-09-25 15:00:00+00:00 EXPIRED |,\n",
       " XBTZ20 | 2020-06-12 00:00:00+00:00 - 2020-12-25 15:00:00+00:00 EXPIRED |,\n",
       " XBTH21 | 2020-09-11 00:00:00+00:00 - 2021-03-26 15:00:00+00:00 EXPIRED |,\n",
       " XBTM21 | 2020-12-11 00:00:00+00:00 - 2021-06-25 15:00:00+00:00 ACTIVE  |,\n",
       " XBTU21 | 2021-03-12 00:00:00+00:00 - 2021-09-24 15:00:00+00:00 ACTIVE  |]"
      ]
     },
     "execution_count": 2,
     "metadata": {},
     "output_type": "execute_result"
    }
   ],
   "source": [
    "contracts_for('XBTUSD')"
   ]
  },
  {
   "cell_type": "code",
   "execution_count": 3,
   "metadata": {},
   "outputs": [
    {
     "name": "stdout",
     "output_type": "stream",
     "text": [
      " > Loading XBTH18 1m for 2017-12-15 00:00:00+00:00 : 2018-03-30 22:00:00+00:00 ...  already in database [OK]\n",
      " > Loading XBTM18 1m for 2018-01-02 00:00:00+00:00 : 2018-06-29 22:00:00+00:00 ...  already in database [OK]\n",
      " > Loading XBTU18 1m for 2018-03-31 00:00:00+00:00 : 2018-09-28 22:00:00+00:00 ...  already in database [OK]\n",
      " > Loading XBTZ18 1m for 2018-07-02 00:00:00+00:00 : 2018-12-28 22:00:00+00:00 ...  already in database [OK]\n",
      " > Loading XBTH19 1m for 2018-09-17 00:00:00+00:00 : 2019-03-29 22:00:00+00:00 ...  already in database [OK]\n",
      " > Loading XBTM19 1m for 2018-12-17 00:00:00+00:00 : 2019-06-28 22:00:00+00:00 ...  already in database [OK]\n",
      " > Loading XBTU19 1m for 2019-03-15 00:00:00+00:00 : 2019-09-27 22:00:00+00:00 ...  already in database [OK]\n",
      " > Loading XBTZ19 1m for 2019-06-14 00:00:00+00:00 : 2019-12-27 22:00:00+00:00 ...  already in database [OK]\n",
      " > Loading XBTH20 1m for 2019-09-13 00:00:00+00:00 : 2020-03-27 22:00:00+00:00 ...  already in database [OK]\n",
      " > Loading XBTM20 1m for 2019-12-13 00:00:00+00:00 : 2020-06-26 22:00:00+00:00 ...  already in database [OK]\n",
      " > Loading XBTU20 1m for 2020-03-13 00:00:00+00:00 : 2020-09-25 22:00:00+00:00 ...  already in database [OK]\n",
      " > Loading XBTZ20 1m for 2020-06-12 00:00:00+00:00 : 2020-12-25 22:00:00+00:00 ...  already in database [OK]\n",
      " > Loading XBTH21 1m for 2020-09-11 00:00:00+00:00 : 2021-03-26 22:00:00+00:00 ...  already in database [OK]\n",
      " > Loading XBTM21 1m for 2020-12-11 00:00:00+00:00 : 2021-05-26 14:43:52.867052+00:00 ...  already in database [OK]\n",
      " > Loading XBTU21 1m for 2021-03-12 00:00:00+00:00 : 2021-05-26 14:43:52.985687+00:00 ...  already in database [OK]\n",
      " > Loading XBTUSD 1m for 2017-12-15 00:00:00+00:00 : 2021-05-26 14:43:53.197303+00:00 ... [OK]\n",
      " > Storing into DB ...[OK]\n"
     ]
    }
   ],
   "source": [
    "load_all_contracts_data('XBTUSD', '1Min')"
   ]
  },
  {
   "cell_type": "code",
   "execution_count": 4,
   "metadata": {},
   "outputs": [
    {
     "name": "stdout",
     "output_type": "stream",
     "text": [
      " > Loading ETHH18 1m for 2017-12-15 00:00:00+00:00 : 2018-03-30 22:00:00+00:00 ... [OK]\n",
      " > Storing into DB ...[OK]\n",
      " > Loading ETHM18 1m for 2018-03-29 00:00:00+00:00 : 2018-06-29 22:00:00+00:00 ... [OK]\n",
      " > Storing into DB ...[OK]\n",
      " > Loading ETHU18 1m for 2018-06-19 00:00:00+00:00 : 2018-09-28 22:00:00+00:00 ... [OK]\n",
      " > Storing into DB ...[OK]\n",
      " > Loading ETHZ18 1m for 2018-09-21 00:00:00+00:00 : 2018-12-28 22:00:00+00:00 ... [OK]\n",
      " > Storing into DB ...[OK]\n",
      " > Loading ETHH19 1m for 2018-12-17 00:00:00+00:00 : 2019-03-29 22:00:00+00:00 ... [OK]\n",
      " > Storing into DB ...[OK]\n",
      " > Loading ETHM19 1m for 2019-03-15 00:00:00+00:00 : 2019-06-28 22:00:00+00:00 ... [OK]\n",
      " > Storing into DB ...[OK]\n",
      " > Loading ETHU19 1m for 2019-06-14 00:00:00+00:00 : 2019-09-27 22:00:00+00:00 ... [OK]\n",
      " > Storing into DB ...[OK]\n",
      " > Loading ETHZ19 1m for 2019-09-13 00:00:00+00:00 : 2019-12-27 22:00:00+00:00 ... [OK]\n",
      " > Storing into DB ...[OK]\n",
      " > Loading ETHH20 1m for 2019-12-13 00:00:00+00:00 : 2020-03-27 22:00:00+00:00 ... [OK]\n",
      " > Storing into DB ...[OK]\n",
      " > Loading ETHM20 1m for 2020-03-13 00:00:00+00:00 : 2020-06-26 22:00:00+00:00 ... [OK]\n",
      " > Storing into DB ...[OK]\n",
      " > Loading ETHU20 1m for 2020-06-12 00:00:00+00:00 : 2020-09-25 22:00:00+00:00 ... [OK]\n",
      " > Storing into DB ...[OK]\n",
      " > Loading ETHZ20 1m for 2020-09-11 00:00:00+00:00 : 2020-12-25 22:00:00+00:00 ... [OK]\n",
      " > Storing into DB ...[OK]\n",
      " > Loading ETHH21 1m for 2020-12-11 00:00:00+00:00 : 2021-03-26 22:00:00+00:00 ... [OK]\n",
      " > Storing into DB ...[OK]\n",
      " > Loading ETHM21 1m for 2021-03-12 00:00:00+00:00 : 2021-05-26 15:05:11.970217+00:00 ... [OK]\n",
      " > Storing into DB ...[OK]\n",
      " > Loading ETHUSD 1m for 2017-12-15 00:00:00+00:00 : 2021-05-26 15:05:21.491435+00:00 ... [OK]\n",
      " > Storing into DB ...[OK]\n"
     ]
    }
   ],
   "source": [
    "load_all_contracts_data('ETHUSD', '1Min')"
   ]
  },
  {
   "cell_type": "code",
   "execution_count": null,
   "metadata": {},
   "outputs": [
    {
     "name": "stdout",
     "output_type": "stream",
     "text": [
      " > Loading LTCH18 1m for 2017-12-15 00:00:00+00:00 : 2018-03-30 22:00:00+00:00 ... [OK]\n",
      " > Storing into DB ...[OK]\n",
      " > Loading LTCM18 1m for 2018-03-29 00:00:00+00:00 : 2018-06-29 22:00:00+00:00 ... [OK]\n",
      " > Storing into DB ...[OK]\n",
      " > Loading LTCU18 1m for 2018-06-19 00:00:00+00:00 : 2018-09-28 22:00:00+00:00 ... [OK]\n",
      " > Storing into DB ...[OK]\n",
      " > Loading LTCZ18 1m for 2018-09-21 00:00:00+00:00 : 2018-12-28 22:00:00+00:00 ... [OK]\n",
      " > Storing into DB ...[OK]\n",
      " > Loading LTCH19 1m for 2018-12-17 00:00:00+00:00 : 2019-03-29 22:00:00+00:00 ... [OK]\n",
      " > Storing into DB ...[OK]\n",
      " > Loading LTCM19 1m for 2019-03-15 00:00:00+00:00 : 2019-06-28 22:00:00+00:00 ... [OK]\n",
      " > Storing into DB ...[OK]\n",
      " > Loading LTCU19 1m for 2019-06-14 00:00:00+00:00 : 2019-09-27 22:00:00+00:00 ... [OK]\n",
      " > Storing into DB ...[OK]\n",
      " > Loading LTCZ19 1m for 2019-09-13 00:00:00+00:00 : 2019-12-27 22:00:00+00:00 ... [OK]\n",
      " > Storing into DB ...[OK]\n",
      " > Loading LTCH20 1m for 2019-12-13 00:00:00+00:00 : 2020-03-27 22:00:00+00:00 ... [OK]\n",
      " > Storing into DB ...[OK]\n",
      " > Loading LTCM20 1m for 2020-03-13 00:00:00+00:00 : 2020-06-26 22:00:00+00:00 ... [OK]\n",
      " > Storing into DB ...[OK]\n",
      " > Loading LTCU20 1m for 2020-06-12 00:00:00+00:00 : 2020-09-25 22:00:00+00:00 ... [OK]\n",
      " > Storing into DB ...[OK]\n",
      " > Loading LTCZ20 1m for 2020-09-11 00:00:00+00:00 : 2020-12-25 22:00:00+00:00 ... [OK]\n",
      " > Storing into DB ...[OK]\n",
      " > Loading LTCH21 1m for 2020-12-11 00:00:00+00:00 : 2021-03-26 22:00:00+00:00 ... [OK]\n",
      " > Storing into DB ...[OK]\n",
      " > Loading LTCM21 1m for 2021-03-12 00:00:00+00:00 : 2021-05-26 15:14:41.890313+00:00 ... [OK]\n",
      " > Storing into DB ...[OK]\n",
      " > Loading LTCUSD 1m for 2017-12-15 00:00:00+00:00 : 2021-05-26 15:14:50.438218+00:00 ... "
     ]
    }
   ],
   "source": [
    "load_all_contracts_data('LTCUSD', '1Min')"
   ]
  },
  {
   "cell_type": "code",
   "execution_count": null,
   "metadata": {},
   "outputs": [],
   "source": [
    "z_ls('m1/')"
   ]
  }
 ],
 "metadata": {
  "kernelspec": {
   "display_name": "Python 3",
   "language": "python",
   "name": "python3"
  },
  "language_info": {
   "codemirror_mode": {
    "name": "ipython",
    "version": 3
   },
   "file_extension": ".py",
   "mimetype": "text/x-python",
   "name": "python",
   "nbconvert_exporter": "python",
   "pygments_lexer": "ipython3",
   "version": "3.6.5"
  },
  "widgets": {
   "application/vnd.jupyter.widget-state+json": {
    "state": {},
    "version_major": 2,
    "version_minor": 0
   }
  }
 },
 "nbformat": 4,
 "nbformat_minor": 4
}
