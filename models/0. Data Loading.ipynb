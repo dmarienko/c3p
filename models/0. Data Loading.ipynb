{
 "cells": [
  {
   "cell_type": "code",
   "execution_count": 3,
   "metadata": {},
   "outputs": [
    {
     "data": {
      "text/html": [
       "<pre style=\"white-space:pre;overflow-x:auto;line-height:normal;font-family:Menlo,'DejaVu Sans Mono',consolas,'Courier New',monospace\"><span style=\"font-weight: bold\">(</span>c<span style=\"font-weight: bold\">)</span> <span style=\"color: #008000; font-weight: bold\">2017</span>, AppliedAlpha Infrastructure for Quantitative Research and Analysis, ver. master: \n",
       "<span style=\"color: #008000; font-weight: bold\">0.1476</span>\n",
       "</pre>\n"
      ],
      "text/plain": [
       "<rich.jupyter.JupyterRenderable at 0x7f6aa98bfe48>"
      ]
     },
     "metadata": {},
     "output_type": "display_data"
    }
   ],
   "source": [
    "import ira\n",
    "%alphalab dark\n",
    "\n",
    "from c3p.models.utils import load_all_contracts_data, contracts_for, bitmex_contract_expiration\n",
    "# %run utils.py"
   ]
  },
  {
   "cell_type": "code",
   "execution_count": 5,
   "metadata": {},
   "outputs": [
    {
     "data": {
      "text/plain": [
       "[XBTH18 | 2017-12-15 - 2018-03-30 15:00:00+00:00 EXPIRED |,\n",
       " XBTM18 | 2018-01-02 - 2018-06-29 15:00:00+00:00 EXPIRED |,\n",
       " XBTU18 | 2018-03-31 - 2018-09-28 15:00:00+00:00 EXPIRED |,\n",
       " XBTZ18 | 2018-07-02 - 2018-12-28 15:00:00+00:00 EXPIRED |,\n",
       " XBTH19 | 2018-09-17 - 2019-03-29 15:00:00+00:00 EXPIRED |,\n",
       " XBTM19 | 2018-12-17 - 2019-06-28 15:00:00+00:00 EXPIRED |,\n",
       " XBTU19 | 2019-03-15 - 2019-09-27 15:00:00+00:00 EXPIRED |,\n",
       " XBTZ19 | 2019-06-14 - 2019-12-27 15:00:00+00:00 EXPIRED |,\n",
       " XBTH20 | 2019-09-13 - 2020-03-27 15:00:00+00:00 EXPIRED |,\n",
       " XBTM20 | 2019-12-13 - 2020-06-26 15:00:00+00:00 EXPIRED |,\n",
       " XBTU20 | 2020-03-13 - 2020-09-25 15:00:00+00:00 EXPIRED |,\n",
       " XBTZ20 | 2020-06-12 - 2020-12-25 15:00:00+00:00 EXPIRED |,\n",
       " XBTH21 | 2020-09-11 - 2021-03-26 15:00:00+00:00 EXPIRED |,\n",
       " XBTM21 | 2020-12-11 - 2021-06-25 15:00:00+00:00 ACTIVE  |,\n",
       " XBTU21 | 2021-03-12 - 2021-09-24 15:00:00+00:00 ACTIVE  |]"
      ]
     },
     "execution_count": 5,
     "metadata": {},
     "output_type": "execute_result"
    }
   ],
   "source": [
    "contracts_for('XBTUSD')"
   ]
  },
  {
   "cell_type": "code",
   "execution_count": null,
   "metadata": {},
   "outputs": [],
   "source": [
    "load_all_contracts_data('XBTUSD', '1Min')"
   ]
  },
  {
   "cell_type": "code",
   "execution_count": null,
   "metadata": {},
   "outputs": [],
   "source": [
    "load_all_contracts_data('ETHUSD', '1Min')"
   ]
  },
  {
   "cell_type": "code",
   "execution_count": null,
   "metadata": {},
   "outputs": [],
   "source": [
    "load_all_contracts_data('LTCUSD', '1Min')"
   ]
  }
 ],
 "metadata": {
  "kernelspec": {
   "display_name": "Python 3",
   "language": "python",
   "name": "python3"
  },
  "language_info": {
   "codemirror_mode": {
    "name": "ipython",
    "version": 3
   },
   "file_extension": ".py",
   "mimetype": "text/x-python",
   "name": "python",
   "nbconvert_exporter": "python",
   "pygments_lexer": "ipython3",
   "version": "3.6.9"
  },
  "widgets": {
   "application/vnd.jupyter.widget-state+json": {
    "state": {},
    "version_major": 2,
    "version_minor": 0
   }
  }
 },
 "nbformat": 4,
 "nbformat_minor": 4
}
